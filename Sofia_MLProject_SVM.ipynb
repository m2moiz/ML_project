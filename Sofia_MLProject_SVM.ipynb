{
  "nbformat": 4,
  "nbformat_minor": 0,
  "metadata": {
    "colab": {
      "name": "SVM.ipynb",
      "provenance": [],
      "collapsed_sections": []
    },
    "kernelspec": {
      "name": "python3",
      "display_name": "Python 3"
    },
    "language_info": {
      "name": "python"
    }
  },
  "cells": [
    {
      "cell_type": "code",
      "metadata": {
        "id": "VCLcPcIZ7Oey"
      },
      "source": [
        "import pandas as pd\n",
        "import numpy as np\n",
        "import matplotlib.pyplot as plt\n",
        "import seaborn as sns\n",
        "import warnings"
      ],
      "execution_count": 100,
      "outputs": []
    },
    {
      "cell_type": "code",
      "metadata": {
        "id": "FB9rffmvQ5nE"
      },
      "source": [
        "from sklearn.svm import LinearSVC\n",
        "from sklearn.tree import DecisionTreeClassifier\n",
        "from sklearn.model_selection import train_test_split\n",
        "from sklearn.model_selection import GridSearchCV\n",
        "from sklearn.preprocessing import MinMaxScaler\n",
        "from sklearn.preprocessing import StandardScaler\n",
        "from pandas import DataFrame\n",
        "from sklearn import svm\n",
        "from sklearn.metrics import accuracy_score,confusion_matrix\n",
        "from sklearn import metrics"
      ],
      "execution_count": 101,
      "outputs": []
    },
    {
      "cell_type": "code",
      "metadata": {
        "id": "93AIfCWTzcHR",
        "colab": {
          "base_uri": "https://localhost:8080/"
        },
        "outputId": "ecbcef52-1876-4754-ca0e-050916e29914"
      },
      "source": [
        "!pip install scikit-plot\n",
        "import scikitplot as skplt"
      ],
      "execution_count": 102,
      "outputs": [
        {
          "output_type": "stream",
          "text": [
            "Requirement already satisfied: scikit-plot in /usr/local/lib/python3.7/dist-packages (0.3.7)\n",
            "Requirement already satisfied: matplotlib>=1.4.0 in /usr/local/lib/python3.7/dist-packages (from scikit-plot) (3.2.2)\n",
            "Requirement already satisfied: scikit-learn>=0.18 in /usr/local/lib/python3.7/dist-packages (from scikit-plot) (0.22.2.post1)\n",
            "Requirement already satisfied: joblib>=0.10 in /usr/local/lib/python3.7/dist-packages (from scikit-plot) (1.0.1)\n",
            "Requirement already satisfied: scipy>=0.9 in /usr/local/lib/python3.7/dist-packages (from scikit-plot) (1.4.1)\n",
            "Requirement already satisfied: numpy>=1.11 in /usr/local/lib/python3.7/dist-packages (from matplotlib>=1.4.0->scikit-plot) (1.19.5)\n",
            "Requirement already satisfied: kiwisolver>=1.0.1 in /usr/local/lib/python3.7/dist-packages (from matplotlib>=1.4.0->scikit-plot) (1.3.1)\n",
            "Requirement already satisfied: cycler>=0.10 in /usr/local/lib/python3.7/dist-packages (from matplotlib>=1.4.0->scikit-plot) (0.10.0)\n",
            "Requirement already satisfied: pyparsing!=2.0.4,!=2.1.2,!=2.1.6,>=2.0.1 in /usr/local/lib/python3.7/dist-packages (from matplotlib>=1.4.0->scikit-plot) (2.4.7)\n",
            "Requirement already satisfied: python-dateutil>=2.1 in /usr/local/lib/python3.7/dist-packages (from matplotlib>=1.4.0->scikit-plot) (2.8.1)\n",
            "Requirement already satisfied: six in /usr/local/lib/python3.7/dist-packages (from cycler>=0.10->matplotlib>=1.4.0->scikit-plot) (1.15.0)\n"
          ],
          "name": "stdout"
        }
      ]
    },
    {
      "cell_type": "code",
      "metadata": {
        "id": "sDXy94hs2IaC",
        "colab": {
          "base_uri": "https://localhost:8080/",
          "height": 419
        },
        "outputId": "e3282817-79a0-409c-92a2-1c99ab9b938a"
      },
      "source": [
        "data = pd.read_csv(\"heart.csv\")\n",
        "data"
      ],
      "execution_count": 103,
      "outputs": [
        {
          "output_type": "execute_result",
          "data": {
            "text/html": [
              "<div>\n",
              "<style scoped>\n",
              "    .dataframe tbody tr th:only-of-type {\n",
              "        vertical-align: middle;\n",
              "    }\n",
              "\n",
              "    .dataframe tbody tr th {\n",
              "        vertical-align: top;\n",
              "    }\n",
              "\n",
              "    .dataframe thead th {\n",
              "        text-align: right;\n",
              "    }\n",
              "</style>\n",
              "<table border=\"1\" class=\"dataframe\">\n",
              "  <thead>\n",
              "    <tr style=\"text-align: right;\">\n",
              "      <th></th>\n",
              "      <th>age</th>\n",
              "      <th>sex</th>\n",
              "      <th>cp</th>\n",
              "      <th>trestbps</th>\n",
              "      <th>chol</th>\n",
              "      <th>fbs</th>\n",
              "      <th>restecg</th>\n",
              "      <th>thalach</th>\n",
              "      <th>exang</th>\n",
              "      <th>oldpeak</th>\n",
              "      <th>slope</th>\n",
              "      <th>ca</th>\n",
              "      <th>thal</th>\n",
              "      <th>target</th>\n",
              "    </tr>\n",
              "  </thead>\n",
              "  <tbody>\n",
              "    <tr>\n",
              "      <th>0</th>\n",
              "      <td>63</td>\n",
              "      <td>1</td>\n",
              "      <td>3</td>\n",
              "      <td>145</td>\n",
              "      <td>233</td>\n",
              "      <td>1</td>\n",
              "      <td>0</td>\n",
              "      <td>150</td>\n",
              "      <td>0</td>\n",
              "      <td>2.3</td>\n",
              "      <td>0</td>\n",
              "      <td>0</td>\n",
              "      <td>1</td>\n",
              "      <td>1</td>\n",
              "    </tr>\n",
              "    <tr>\n",
              "      <th>1</th>\n",
              "      <td>37</td>\n",
              "      <td>1</td>\n",
              "      <td>2</td>\n",
              "      <td>130</td>\n",
              "      <td>250</td>\n",
              "      <td>0</td>\n",
              "      <td>1</td>\n",
              "      <td>187</td>\n",
              "      <td>0</td>\n",
              "      <td>3.5</td>\n",
              "      <td>0</td>\n",
              "      <td>0</td>\n",
              "      <td>2</td>\n",
              "      <td>1</td>\n",
              "    </tr>\n",
              "    <tr>\n",
              "      <th>2</th>\n",
              "      <td>41</td>\n",
              "      <td>0</td>\n",
              "      <td>1</td>\n",
              "      <td>130</td>\n",
              "      <td>204</td>\n",
              "      <td>0</td>\n",
              "      <td>0</td>\n",
              "      <td>172</td>\n",
              "      <td>0</td>\n",
              "      <td>1.4</td>\n",
              "      <td>2</td>\n",
              "      <td>0</td>\n",
              "      <td>2</td>\n",
              "      <td>1</td>\n",
              "    </tr>\n",
              "    <tr>\n",
              "      <th>3</th>\n",
              "      <td>56</td>\n",
              "      <td>1</td>\n",
              "      <td>1</td>\n",
              "      <td>120</td>\n",
              "      <td>236</td>\n",
              "      <td>0</td>\n",
              "      <td>1</td>\n",
              "      <td>178</td>\n",
              "      <td>0</td>\n",
              "      <td>0.8</td>\n",
              "      <td>2</td>\n",
              "      <td>0</td>\n",
              "      <td>2</td>\n",
              "      <td>1</td>\n",
              "    </tr>\n",
              "    <tr>\n",
              "      <th>4</th>\n",
              "      <td>57</td>\n",
              "      <td>0</td>\n",
              "      <td>0</td>\n",
              "      <td>120</td>\n",
              "      <td>354</td>\n",
              "      <td>0</td>\n",
              "      <td>1</td>\n",
              "      <td>163</td>\n",
              "      <td>1</td>\n",
              "      <td>0.6</td>\n",
              "      <td>2</td>\n",
              "      <td>0</td>\n",
              "      <td>2</td>\n",
              "      <td>1</td>\n",
              "    </tr>\n",
              "    <tr>\n",
              "      <th>...</th>\n",
              "      <td>...</td>\n",
              "      <td>...</td>\n",
              "      <td>...</td>\n",
              "      <td>...</td>\n",
              "      <td>...</td>\n",
              "      <td>...</td>\n",
              "      <td>...</td>\n",
              "      <td>...</td>\n",
              "      <td>...</td>\n",
              "      <td>...</td>\n",
              "      <td>...</td>\n",
              "      <td>...</td>\n",
              "      <td>...</td>\n",
              "      <td>...</td>\n",
              "    </tr>\n",
              "    <tr>\n",
              "      <th>298</th>\n",
              "      <td>57</td>\n",
              "      <td>0</td>\n",
              "      <td>0</td>\n",
              "      <td>140</td>\n",
              "      <td>241</td>\n",
              "      <td>0</td>\n",
              "      <td>1</td>\n",
              "      <td>123</td>\n",
              "      <td>1</td>\n",
              "      <td>0.2</td>\n",
              "      <td>1</td>\n",
              "      <td>0</td>\n",
              "      <td>3</td>\n",
              "      <td>0</td>\n",
              "    </tr>\n",
              "    <tr>\n",
              "      <th>299</th>\n",
              "      <td>45</td>\n",
              "      <td>1</td>\n",
              "      <td>3</td>\n",
              "      <td>110</td>\n",
              "      <td>264</td>\n",
              "      <td>0</td>\n",
              "      <td>1</td>\n",
              "      <td>132</td>\n",
              "      <td>0</td>\n",
              "      <td>1.2</td>\n",
              "      <td>1</td>\n",
              "      <td>0</td>\n",
              "      <td>3</td>\n",
              "      <td>0</td>\n",
              "    </tr>\n",
              "    <tr>\n",
              "      <th>300</th>\n",
              "      <td>68</td>\n",
              "      <td>1</td>\n",
              "      <td>0</td>\n",
              "      <td>144</td>\n",
              "      <td>193</td>\n",
              "      <td>1</td>\n",
              "      <td>1</td>\n",
              "      <td>141</td>\n",
              "      <td>0</td>\n",
              "      <td>3.4</td>\n",
              "      <td>1</td>\n",
              "      <td>2</td>\n",
              "      <td>3</td>\n",
              "      <td>0</td>\n",
              "    </tr>\n",
              "    <tr>\n",
              "      <th>301</th>\n",
              "      <td>57</td>\n",
              "      <td>1</td>\n",
              "      <td>0</td>\n",
              "      <td>130</td>\n",
              "      <td>131</td>\n",
              "      <td>0</td>\n",
              "      <td>1</td>\n",
              "      <td>115</td>\n",
              "      <td>1</td>\n",
              "      <td>1.2</td>\n",
              "      <td>1</td>\n",
              "      <td>1</td>\n",
              "      <td>3</td>\n",
              "      <td>0</td>\n",
              "    </tr>\n",
              "    <tr>\n",
              "      <th>302</th>\n",
              "      <td>57</td>\n",
              "      <td>0</td>\n",
              "      <td>1</td>\n",
              "      <td>130</td>\n",
              "      <td>236</td>\n",
              "      <td>0</td>\n",
              "      <td>0</td>\n",
              "      <td>174</td>\n",
              "      <td>0</td>\n",
              "      <td>0.0</td>\n",
              "      <td>1</td>\n",
              "      <td>1</td>\n",
              "      <td>2</td>\n",
              "      <td>0</td>\n",
              "    </tr>\n",
              "  </tbody>\n",
              "</table>\n",
              "<p>303 rows × 14 columns</p>\n",
              "</div>"
            ],
            "text/plain": [
              "     age  sex  cp  trestbps  chol  fbs  ...  exang  oldpeak  slope  ca  thal  target\n",
              "0     63    1   3       145   233    1  ...      0      2.3      0   0     1       1\n",
              "1     37    1   2       130   250    0  ...      0      3.5      0   0     2       1\n",
              "2     41    0   1       130   204    0  ...      0      1.4      2   0     2       1\n",
              "3     56    1   1       120   236    0  ...      0      0.8      2   0     2       1\n",
              "4     57    0   0       120   354    0  ...      1      0.6      2   0     2       1\n",
              "..   ...  ...  ..       ...   ...  ...  ...    ...      ...    ...  ..   ...     ...\n",
              "298   57    0   0       140   241    0  ...      1      0.2      1   0     3       0\n",
              "299   45    1   3       110   264    0  ...      0      1.2      1   0     3       0\n",
              "300   68    1   0       144   193    1  ...      0      3.4      1   2     3       0\n",
              "301   57    1   0       130   131    0  ...      1      1.2      1   1     3       0\n",
              "302   57    0   1       130   236    0  ...      0      0.0      1   1     2       0\n",
              "\n",
              "[303 rows x 14 columns]"
            ]
          },
          "metadata": {
            "tags": []
          },
          "execution_count": 103
        }
      ]
    },
    {
      "cell_type": "code",
      "metadata": {
        "id": "Zpv6Oq4Aa74F"
      },
      "source": [
        "x = data.drop(['target'], axis = 1)\n",
        "y = data.target"
      ],
      "execution_count": 104,
      "outputs": []
    },
    {
      "cell_type": "code",
      "metadata": {
        "id": "xZEwz0evSghP"
      },
      "source": [
        "warnings.filterwarnings(\"ignore\", category=DeprecationWarning)"
      ],
      "execution_count": 105,
      "outputs": []
    },
    {
      "cell_type": "code",
      "metadata": {
        "id": "dtomZuPjY3bl"
      },
      "source": [
        "data.rename(columns ={'age':'Age','sex':'Sex','cp':'Chest_pain','trestbps':'Resting_blood_pressure','chol':'Cholesterol','fbs':'Fasting_blood_sugar',\n",
        "                    'restecg':'ECG_results','thalach':'Maximum_heart_rate','exang':'Exercise_induced_angina','oldpeak':'ST_depression','ca':'Major_vessels',\n",
        "                   'thal':'Thalassemia_types','target':'Heart_attack','slope':'ST_slope'}, inplace = True)"
      ],
      "execution_count": 106,
      "outputs": []
    },
    {
      "cell_type": "code",
      "metadata": {
        "colab": {
          "base_uri": "https://localhost:8080/",
          "height": 250
        },
        "id": "MaM51eMvVDfw",
        "outputId": "33163fc9-380c-4f55-9da9-b07e80c3d928"
      },
      "source": [
        "Table= data.groupby(['Sex','Maximum_heart_rate'])['Heart_attack'].count().reset_index().sort_values(by='Heart_attack',ascending=False)\n",
        "Table.head(10).style.background_gradient(cmap='Purples')"
      ],
      "execution_count": 107,
      "outputs": [
        {
          "output_type": "execute_result",
          "data": {
            "text/html": [
              "<style  type=\"text/css\" >\n",
              "#T_230d159a_a86c_11eb_b9f4_0242ac1c0002row0_col0,#T_230d159a_a86c_11eb_b9f4_0242ac1c0002row0_col2,#T_230d159a_a86c_11eb_b9f4_0242ac1c0002row1_col0,#T_230d159a_a86c_11eb_b9f4_0242ac1c0002row1_col2,#T_230d159a_a86c_11eb_b9f4_0242ac1c0002row2_col0,#T_230d159a_a86c_11eb_b9f4_0242ac1c0002row2_col2,#T_230d159a_a86c_11eb_b9f4_0242ac1c0002row3_col0,#T_230d159a_a86c_11eb_b9f4_0242ac1c0002row3_col1,#T_230d159a_a86c_11eb_b9f4_0242ac1c0002row3_col2,#T_230d159a_a86c_11eb_b9f4_0242ac1c0002row4_col0,#T_230d159a_a86c_11eb_b9f4_0242ac1c0002row6_col0,#T_230d159a_a86c_11eb_b9f4_0242ac1c0002row7_col0,#T_230d159a_a86c_11eb_b9f4_0242ac1c0002row8_col0{\n",
              "            background-color:  #3f007d;\n",
              "            color:  #f1f1f1;\n",
              "        }#T_230d159a_a86c_11eb_b9f4_0242ac1c0002row0_col1{\n",
              "            background-color:  #b7b7d9;\n",
              "            color:  #000000;\n",
              "        }#T_230d159a_a86c_11eb_b9f4_0242ac1c0002row1_col1{\n",
              "            background-color:  #eceaf3;\n",
              "            color:  #000000;\n",
              "        }#T_230d159a_a86c_11eb_b9f4_0242ac1c0002row2_col1{\n",
              "            background-color:  #66499f;\n",
              "            color:  #f1f1f1;\n",
              "        }#T_230d159a_a86c_11eb_b9f4_0242ac1c0002row4_col1{\n",
              "            background-color:  #cbcbe3;\n",
              "            color:  #000000;\n",
              "        }#T_230d159a_a86c_11eb_b9f4_0242ac1c0002row4_col2,#T_230d159a_a86c_11eb_b9f4_0242ac1c0002row5_col2,#T_230d159a_a86c_11eb_b9f4_0242ac1c0002row6_col2,#T_230d159a_a86c_11eb_b9f4_0242ac1c0002row7_col2,#T_230d159a_a86c_11eb_b9f4_0242ac1c0002row8_col2{\n",
              "            background-color:  #9e9ac8;\n",
              "            color:  #000000;\n",
              "        }#T_230d159a_a86c_11eb_b9f4_0242ac1c0002row5_col0,#T_230d159a_a86c_11eb_b9f4_0242ac1c0002row7_col1,#T_230d159a_a86c_11eb_b9f4_0242ac1c0002row9_col0,#T_230d159a_a86c_11eb_b9f4_0242ac1c0002row9_col2{\n",
              "            background-color:  #fcfbfd;\n",
              "            color:  #000000;\n",
              "        }#T_230d159a_a86c_11eb_b9f4_0242ac1c0002row5_col1{\n",
              "            background-color:  #420680;\n",
              "            color:  #f1f1f1;\n",
              "        }#T_230d159a_a86c_11eb_b9f4_0242ac1c0002row6_col1{\n",
              "            background-color:  #9995c6;\n",
              "            color:  #000000;\n",
              "        }#T_230d159a_a86c_11eb_b9f4_0242ac1c0002row8_col1{\n",
              "            background-color:  #7c75b6;\n",
              "            color:  #000000;\n",
              "        }#T_230d159a_a86c_11eb_b9f4_0242ac1c0002row9_col1{\n",
              "            background-color:  #63439c;\n",
              "            color:  #f1f1f1;\n",
              "        }</style><table id=\"T_230d159a_a86c_11eb_b9f4_0242ac1c0002\" ><thead>    <tr>        <th class=\"blank level0\" ></th>        <th class=\"col_heading level0 col0\" >Sex</th>        <th class=\"col_heading level0 col1\" >Maximum_heart_rate</th>        <th class=\"col_heading level0 col2\" >Heart_attack</th>    </tr></thead><tbody>\n",
              "                <tr>\n",
              "                        <th id=\"T_230d159a_a86c_11eb_b9f4_0242ac1c0002level0_row0\" class=\"row_heading level0 row0\" >86</th>\n",
              "                        <td id=\"T_230d159a_a86c_11eb_b9f4_0242ac1c0002row0_col0\" class=\"data row0 col0\" >1</td>\n",
              "                        <td id=\"T_230d159a_a86c_11eb_b9f4_0242ac1c0002row0_col1\" class=\"data row0 col1\" >144</td>\n",
              "                        <td id=\"T_230d159a_a86c_11eb_b9f4_0242ac1c0002row0_col2\" class=\"data row0 col2\" >7</td>\n",
              "            </tr>\n",
              "            <tr>\n",
              "                        <th id=\"T_230d159a_a86c_11eb_b9f4_0242ac1c0002level0_row1\" class=\"row_heading level0 row1\" >77</th>\n",
              "                        <td id=\"T_230d159a_a86c_11eb_b9f4_0242ac1c0002row1_col0\" class=\"data row1 col0\" >1</td>\n",
              "                        <td id=\"T_230d159a_a86c_11eb_b9f4_0242ac1c0002row1_col1\" class=\"data row1 col1\" >132</td>\n",
              "                        <td id=\"T_230d159a_a86c_11eb_b9f4_0242ac1c0002row1_col2\" class=\"data row1 col2\" >7</td>\n",
              "            </tr>\n",
              "            <tr>\n",
              "                        <th id=\"T_230d159a_a86c_11eb_b9f4_0242ac1c0002level0_row2\" class=\"row_heading level0 row2\" >103</th>\n",
              "                        <td id=\"T_230d159a_a86c_11eb_b9f4_0242ac1c0002row2_col0\" class=\"data row2 col0\" >1</td>\n",
              "                        <td id=\"T_230d159a_a86c_11eb_b9f4_0242ac1c0002row2_col1\" class=\"data row2 col1\" >162</td>\n",
              "                        <td id=\"T_230d159a_a86c_11eb_b9f4_0242ac1c0002row2_col2\" class=\"data row2 col2\" >7</td>\n",
              "            </tr>\n",
              "            <tr>\n",
              "                        <th id=\"T_230d159a_a86c_11eb_b9f4_0242ac1c0002level0_row3\" class=\"row_heading level0 row3\" >113</th>\n",
              "                        <td id=\"T_230d159a_a86c_11eb_b9f4_0242ac1c0002row3_col0\" class=\"data row3 col0\" >1</td>\n",
              "                        <td id=\"T_230d159a_a86c_11eb_b9f4_0242ac1c0002row3_col1\" class=\"data row3 col1\" >173</td>\n",
              "                        <td id=\"T_230d159a_a86c_11eb_b9f4_0242ac1c0002row3_col2\" class=\"data row3 col2\" >7</td>\n",
              "            </tr>\n",
              "            <tr>\n",
              "                        <th id=\"T_230d159a_a86c_11eb_b9f4_0242ac1c0002level0_row4\" class=\"row_heading level0 row4\" >82</th>\n",
              "                        <td id=\"T_230d159a_a86c_11eb_b9f4_0242ac1c0002row4_col0\" class=\"data row4 col0\" >1</td>\n",
              "                        <td id=\"T_230d159a_a86c_11eb_b9f4_0242ac1c0002row4_col1\" class=\"data row4 col1\" >140</td>\n",
              "                        <td id=\"T_230d159a_a86c_11eb_b9f4_0242ac1c0002row4_col2\" class=\"data row4 col2\" >6</td>\n",
              "            </tr>\n",
              "            <tr>\n",
              "                        <th id=\"T_230d159a_a86c_11eb_b9f4_0242ac1c0002level0_row5\" class=\"row_heading level0 row5\" >42</th>\n",
              "                        <td id=\"T_230d159a_a86c_11eb_b9f4_0242ac1c0002row5_col0\" class=\"data row5 col0\" >0</td>\n",
              "                        <td id=\"T_230d159a_a86c_11eb_b9f4_0242ac1c0002row5_col1\" class=\"data row5 col1\" >172</td>\n",
              "                        <td id=\"T_230d159a_a86c_11eb_b9f4_0242ac1c0002row5_col2\" class=\"data row5 col2\" >6</td>\n",
              "            </tr>\n",
              "            <tr>\n",
              "                        <th id=\"T_230d159a_a86c_11eb_b9f4_0242ac1c0002level0_row6\" class=\"row_heading level0 row6\" >91</th>\n",
              "                        <td id=\"T_230d159a_a86c_11eb_b9f4_0242ac1c0002row6_col0\" class=\"data row6 col0\" >1</td>\n",
              "                        <td id=\"T_230d159a_a86c_11eb_b9f4_0242ac1c0002row6_col1\" class=\"data row6 col1\" >150</td>\n",
              "                        <td id=\"T_230d159a_a86c_11eb_b9f4_0242ac1c0002row6_col2\" class=\"data row6 col2\" >6</td>\n",
              "            </tr>\n",
              "            <tr>\n",
              "                        <th id=\"T_230d159a_a86c_11eb_b9f4_0242ac1c0002level0_row7\" class=\"row_heading level0 row7\" >70</th>\n",
              "                        <td id=\"T_230d159a_a86c_11eb_b9f4_0242ac1c0002row7_col0\" class=\"data row7 col0\" >1</td>\n",
              "                        <td id=\"T_230d159a_a86c_11eb_b9f4_0242ac1c0002row7_col1\" class=\"data row7 col1\" >125</td>\n",
              "                        <td id=\"T_230d159a_a86c_11eb_b9f4_0242ac1c0002row7_col2\" class=\"data row7 col2\" >6</td>\n",
              "            </tr>\n",
              "            <tr>\n",
              "                        <th id=\"T_230d159a_a86c_11eb_b9f4_0242ac1c0002level0_row8\" class=\"row_heading level0 row8\" >97</th>\n",
              "                        <td id=\"T_230d159a_a86c_11eb_b9f4_0242ac1c0002row8_col0\" class=\"data row8 col0\" >1</td>\n",
              "                        <td id=\"T_230d159a_a86c_11eb_b9f4_0242ac1c0002row8_col1\" class=\"data row8 col1\" >156</td>\n",
              "                        <td id=\"T_230d159a_a86c_11eb_b9f4_0242ac1c0002row8_col2\" class=\"data row8 col2\" >6</td>\n",
              "            </tr>\n",
              "            <tr>\n",
              "                        <th id=\"T_230d159a_a86c_11eb_b9f4_0242ac1c0002level0_row9\" class=\"row_heading level0 row9\" >34</th>\n",
              "                        <td id=\"T_230d159a_a86c_11eb_b9f4_0242ac1c0002row9_col0\" class=\"data row9 col0\" >0</td>\n",
              "                        <td id=\"T_230d159a_a86c_11eb_b9f4_0242ac1c0002row9_col1\" class=\"data row9 col1\" >163</td>\n",
              "                        <td id=\"T_230d159a_a86c_11eb_b9f4_0242ac1c0002row9_col2\" class=\"data row9 col2\" >5</td>\n",
              "            </tr>\n",
              "    </tbody></table>"
            ],
            "text/plain": [
              "<pandas.io.formats.style.Styler at 0x7fb99537ad50>"
            ]
          },
          "metadata": {
            "tags": []
          },
          "execution_count": 107
        }
      ]
    },
    {
      "cell_type": "code",
      "metadata": {
        "id": "g2yP1GPz1JGE"
      },
      "source": [
        "x_train, x_test, y_train, y_test = train_test_split(x,y,test_size = 0.20, random_state = 5)"
      ],
      "execution_count": 108,
      "outputs": []
    },
    {
      "cell_type": "code",
      "metadata": {
        "colab": {
          "base_uri": "https://localhost:8080/"
        },
        "id": "ap7kMdFSXK4S",
        "outputId": "3387d612-493f-491e-a3cc-08040086effc"
      },
      "source": [
        "X = [[0, 0], [1, 1]]\n",
        "y = [0, 1]\n",
        "clf = svm.LinearSVC()\n",
        "clf.fit(X, y)\n",
        "LinearSVC()"
      ],
      "execution_count": 109,
      "outputs": [
        {
          "output_type": "execute_result",
          "data": {
            "text/plain": [
              "LinearSVC(C=1.0, class_weight=None, dual=True, fit_intercept=True,\n",
              "          intercept_scaling=1, loss='squared_hinge', max_iter=1000,\n",
              "          multi_class='ovr', penalty='l2', random_state=None, tol=0.0001,\n",
              "          verbose=0)"
            ]
          },
          "metadata": {
            "tags": []
          },
          "execution_count": 109
        }
      ]
    },
    {
      "cell_type": "code",
      "metadata": {
        "colab": {
          "base_uri": "https://localhost:8080/",
          "height": 296
        },
        "id": "sn-D4EFIZOTE",
        "outputId": "9dcbf8a2-60d9-4225-bda4-1c476889d3c7"
      },
      "source": [
        "sns.countplot(x = 'Age',hue = 'Fasting_blood_sugar', data = data,palette=\"Set1\")"
      ],
      "execution_count": 110,
      "outputs": [
        {
          "output_type": "execute_result",
          "data": {
            "text/plain": [
              "<matplotlib.axes._subplots.AxesSubplot at 0x7fb995354850>"
            ]
          },
          "metadata": {
            "tags": []
          },
          "execution_count": 110
        },
        {
          "output_type": "display_data",
          "data": {
            "image/png": "[encoded data removed]",
            "text/plain": [
              "<Figure size 432x288 with 1 Axes>"
            ]
          },
          "metadata": {
            "tags": [],
            "needs_background": "light"
          }
        }
      ]
    },
    {
      "cell_type": "code",
      "metadata": {
        "colab": {
          "base_uri": "https://localhost:8080/"
        },
        "id": "Pgar4btMVx-l",
        "outputId": "e6e6a7c4-7cd3-4f6c-ca69-be2175deea0e"
      },
      "source": [
        "model3 = LinearSVC()\n",
        "model3.fit(x_train,y_train)\n",
        "accuracy3 = model3.score(x_test,y_test)\n",
        "accuracy.append(accuracy3)\n",
        "print('SVM Classifier Accuracy -->',((accuracy3)*100))"
      ],
      "execution_count": 111,
      "outputs": [
        {
          "output_type": "stream",
          "text": [
            "SVM Classifier Accuracy --> 91.80327868852459\n"
          ],
          "name": "stdout"
        }
      ]
    },
    {
      "cell_type": "code",
      "metadata": {
        "id": "gjx-2KcU6ty1"
      },
      "source": [
        "accuracy=[]"
      ],
      "execution_count": 112,
      "outputs": []
    },
    {
      "cell_type": "code",
      "metadata": {
        "colab": {
          "base_uri": "https://localhost:8080/"
        },
        "id": "860NmHgAzcfh",
        "outputId": "52220efd-0789-420d-9522-588121a746d3"
      },
      "source": [
        "model3 = LinearSVC(C = 15,loss = 'hinge',penalty = 'l2')\n",
        "model3.fit(x_train,y_train)\n",
        "accuracy3 = model3.score(x_test,y_test)\n",
        "accuracy.append(accuracy3)\n",
        "print('SVM Classifier Accuracy -->',((accuracy3)*100))\n",
        "warnings.filterwarnings(\"ignore\", category=DeprecationWarning)\n",
        "warnings.simplefilter('ignore')"
      ],
      "execution_count": 113,
      "outputs": [
        {
          "output_type": "stream",
          "text": [
            "SVM Classifier Accuracy --> 83.60655737704919\n"
          ],
          "name": "stdout"
        }
      ]
    },
    {
      "cell_type": "code",
      "metadata": {
        "colab": {
          "base_uri": "https://localhost:8080/",
          "height": 400
        },
        "id": "xuiewGunbFF2",
        "outputId": "4f7eda07-7bd0-4c8b-8646-d444cfcc8f3e"
      },
      "source": [
        "sns.relplot(x ='Age', y ='Thalassemia_types', col = 'Sex', data = data, color = 'teal')"
      ],
      "execution_count": 114,
      "outputs": [
        {
          "output_type": "execute_result",
          "data": {
            "text/plain": [
              "<seaborn.axisgrid.FacetGrid at 0x7fb9951e8c50>"
            ]
          },
          "metadata": {
            "tags": []
          },
          "execution_count": 114
        },
        {
          "output_type": "display_data",
          "data": {
            "image/png": "[encoded data removed]",
            "text/plain": [
              "<Figure size 720x360 with 2 Axes>"
            ]
          },
          "metadata": {
            "tags": [],
            "needs_background": "light"
          }
        }
      ]
    },
    {
      "cell_type": "code",
      "metadata": {
        "colab": {
          "base_uri": "https://localhost:8080/",
          "height": 367
        },
        "id": "5lBVGBmCzcjD",
        "outputId": "a3caa854-a2f0-48e4-e0dc-b56941ee5c8f"
      },
      "source": [
        "P = model3.predict(x_test)\n",
        "matrix3 = (y_test,P)\n",
        "skplt.metrics.plot_confusion_matrix(y_test ,P ,figsize=(10,5))"
      ],
      "execution_count": 115,
      "outputs": [
        {
          "output_type": "execute_result",
          "data": {
            "text/plain": [
              "<matplotlib.axes._subplots.AxesSubplot at 0x7fb995106a50>"
            ]
          },
          "metadata": {
            "tags": []
          },
          "execution_count": 115
        },
        {
          "output_type": "display_data",
          "data": {
            "image/png": "[encoded data removed]",
            "text/plain": [
              "<Figure size 720x360 with 2 Axes>"
            ]
          },
          "metadata": {
            "tags": [],
            "needs_background": "light"
          }
        }
      ]
    }
  ]
}