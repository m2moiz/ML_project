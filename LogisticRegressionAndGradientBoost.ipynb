{
  "nbformat": 4,
  "nbformat_minor": 0,
  "metadata": {
    "colab": {
      "name": "LogisticRegressionAndGradientBoost.ipynb",
      "provenance": [],
      "collapsed_sections": []
    },
    "kernelspec": {
      "name": "python3",
      "display_name": "Python 3"
    },
    "language_info": {
      "name": "python"
    }
  },
  "cells": [
    {
      "cell_type": "markdown",
      "metadata": {
        "id": "p787B1K1beuK"
      },
      "source": [
        "# Loading the dataset "
      ]
    },
    {
      "cell_type": "markdown",
      "metadata": {
        "id": "cbyU07J3bV-e"
      },
      "source": [
        "**Importing all the necessary Libraries**"
      ]
    },
    {
      "cell_type": "code",
      "metadata": {
        "id": "2b8IGxinbRvX"
      },
      "source": [
        "import pandas as pd\n",
        "import numpy as np\n",
        "import matplotlib.pyplot as plt\n",
        "import seaborn as sns\n",
        "from google.colab import files\n",
        "import io\n",
        "from sklearn.linear_model import LogisticRegression\n",
        "from sklearn.pipeline import make_pipeline\n",
        "from sklearn.preprocessing import OneHotEncoder, StandardScaler\n",
        "import time\n",
        "from sklearn.model_selection import cross_validate\n",
        "from sklearn.compose import ColumnTransformer\n",
        "from sklearn.model_selection import train_test_split\n",
        "from sklearn.metrics import classification_report, confusion_matrix\n",
        "from sklearn.ensemble import GradientBoostingClassifier\n",
        "from sklearn.model_selection import GridSearchCV\n",
        "from sklearn import set_config\n",
        "set_config(display='diagram')\n",
        "from sklearn.metrics import plot_confusion_matrix\n",
        "import plotly.figure_factory as ff\n"
      ],
      "execution_count": null,
      "outputs": []
    },
    {
      "cell_type": "markdown",
      "metadata": {
        "id": "iaxq994c-ECz"
      },
      "source": [
        "**Mounting google drive to access files**\n",
        "\n"
      ]
    },
    {
      "cell_type": "code",
      "metadata": {
        "colab": {
          "base_uri": "https://localhost:8080/"
        },
        "id": "U0D0mlLq8WaM",
        "outputId": "48a5fc51-85c7-4225-8641-b5c06aee89c4"
      },
      "source": [
        "from google.colab import drive\n",
        "drive.mount('/content/gdrive')"
      ],
      "execution_count": null,
      "outputs": [
        {
          "output_type": "stream",
          "text": [
            "Drive already mounted at /content/gdrive; to attempt to forcibly remount, call drive.mount(\"/content/gdrive\", force_remount=True).\n"
          ],
          "name": "stdout"
        }
      ]
    },
    {
      "cell_type": "markdown",
      "metadata": {
        "id": "rWytS62x-XdZ"
      },
      "source": [
        "**Specifying patch where the API tolken is stored along with where we will store the dataset**"
      ]
    },
    {
      "cell_type": "code",
      "metadata": {
        "id": "XZrZ9MWq8XVw"
      },
      "source": [
        "import os\n",
        "os.environ['KAGGLE_CONFIG_DIR'] = \"/content/gdrive/My Drive/Kaggle\""
      ],
      "execution_count": null,
      "outputs": []
    },
    {
      "cell_type": "markdown",
      "metadata": {
        "id": "0o06YeQD-0WV"
      },
      "source": [
        "**Changing working directory to that folder**"
      ]
    },
    {
      "cell_type": "code",
      "metadata": {
        "colab": {
          "base_uri": "https://localhost:8080/"
        },
        "id": "KEIV81Q48upe",
        "outputId": "f2d0f010-7531-46d7-c82c-44c138920582"
      },
      "source": [
        "%cd /content/gdrive/My Drive/Kaggle"
      ],
      "execution_count": null,
      "outputs": [
        {
          "output_type": "stream",
          "text": [
            "/content/gdrive/My Drive/Kaggle\n"
          ],
          "name": "stdout"
        }
      ]
    },
    {
      "cell_type": "markdown",
      "metadata": {
        "id": "N6n7bpHg-xbE"
      },
      "source": [
        "**Checking if we are in the correct directory**"
      ]
    },
    {
      "cell_type": "code",
      "metadata": {
        "colab": {
          "base_uri": "https://localhost:8080/",
          "height": 35
        },
        "id": "BNjw-lyO83R8",
        "outputId": "71dcb400-b48b-4526-bf97-931a6209dcbc"
      },
      "source": [
        "pwd"
      ],
      "execution_count": null,
      "outputs": [
        {
          "output_type": "execute_result",
          "data": {
            "application/vnd.google.colaboratory.intrinsic+json": {
              "type": "string"
            },
            "text/plain": [
              "'/content/gdrive/My Drive/Kaggle'"
            ]
          },
          "metadata": {
            "tags": []
          },
          "execution_count": 153
        }
      ]
    },
    {
      "cell_type": "markdown",
      "metadata": {
        "id": "IugGhw7l_YBI"
      },
      "source": [
        "**Downloading the dataset**"
      ]
    },
    {
      "cell_type": "code",
      "metadata": {
        "id": "BCuL7TlV86h4"
      },
      "source": [
        "# !kaggle datasets download -d ronitf/heart-disease-ucim"
      ],
      "execution_count": null,
      "outputs": []
    },
    {
      "cell_type": "markdown",
      "metadata": {
        "id": "fSRFo7rDCwCA"
      },
      "source": [
        "**Extracting the dataset and removing the compressed file**"
      ]
    },
    {
      "cell_type": "code",
      "metadata": {
        "id": "BtVwbXI_9gYB"
      },
      "source": [
        "# !unzip \\*.zip  && rm *.zip"
      ],
      "execution_count": null,
      "outputs": []
    },
    {
      "cell_type": "markdown",
      "metadata": {
        "id": "V_nbhes3OZhH"
      },
      "source": [
        "**Importing the dataset**"
      ]
    },
    {
      "cell_type": "code",
      "metadata": {
        "id": "lrnfQ3Vc9sts"
      },
      "source": [
        "df = pd.read_csv(\"./heart.csv\")"
      ],
      "execution_count": null,
      "outputs": []
    },
    {
      "cell_type": "markdown",
      "metadata": {
        "id": "_R6YmJUTIXq0"
      },
      "source": [
        "# Data Analysis"
      ]
    },
    {
      "cell_type": "markdown",
      "metadata": {
        "id": "iEJkpaKPIbEQ"
      },
      "source": [
        "**Visiualising the number of males vs females in the dataset**"
      ]
    },
    {
      "cell_type": "code",
      "metadata": {
        "colab": {
          "base_uri": "https://localhost:8080/",
          "height": 297
        },
        "id": "CYn3OJkJIkfY",
        "outputId": "dd2be867-9027-4ef7-9e8c-32132b5c20b7"
      },
      "source": [
        "sex_counts = data['sex'].value_counts().tolist()\n",
        "sns.countplot(x='sex', hue=\"sex\", data=data)"
      ],
      "execution_count": null,
      "outputs": [
        {
          "output_type": "execute_result",
          "data": {
            "text/plain": [
              "<matplotlib.axes._subplots.AxesSubplot at 0x7ffa7f48fcd0>"
            ]
          },
          "metadata": {
            "tags": []
          },
          "execution_count": 190
        },
        {
          "output_type": "display_data",
          "data": {
            "image/png": "[encoded data removed]",
            "text/plain": [
              "<Figure size 432x288 with 1 Axes>"
            ]
          },
          "metadata": {
            "tags": [],
            "needs_background": "light"
          }
        }
      ]
    },
    {
      "cell_type": "markdown",
      "metadata": {
        "id": "T1xmTaUCO2EG"
      },
      "source": [
        "*There is a skew in the number of males vs females*"
      ]
    },
    {
      "cell_type": "markdown",
      "metadata": {
        "id": "D5HqU7yOOBDp"
      },
      "source": [
        "**Visualising the Age of the people in the dataset**"
      ]
    },
    {
      "cell_type": "code",
      "metadata": {
        "colab": {
          "base_uri": "https://localhost:8080/",
          "height": 542
        },
        "id": "3vCgGAeHOIc0",
        "outputId": "73286c87-c773-45ab-c2ce-4ed95f459e11"
      },
      "source": [
        "ff.create_distplot([data['age']], group_labels=['age'],\n",
        "                         bin_size=10, show_rug=False)"
      ],
      "execution_count": null,
      "outputs": [
        {
          "output_type": "display_data",
          "data": {
            "text/html": [
              "<html>\n",
              "<head><meta charset=\"utf-8\" /></head>\n",
              "<body>\n",
              "    <div>\n",
              "            <script src=\"https://cdnjs.cloudflare.com/ajax/libs/mathjax/2.7.5/MathJax.js?config=TeX-AMS-MML_SVG\"></script><script type=\"text/javascript\">if (window.MathJax) {MathJax.Hub.Config({SVG: {font: \"STIX-Web\"}});}</script>\n",
              "                <script type=\"text/javascript\">window.PlotlyConfig = {MathJaxConfig: 'local'};</script>\n",
              "        <script src=\"https://cdn.plot.ly/plotly-latest.min.js\"></script>    \n",
              "            <div id=\"2e4506f5-542c-407b-9476-c177071e9181\" class=\"plotly-graph-div\" style=\"height:525px; width:100%;\"></div>\n",
              "            <script type=\"text/javascript\">\n",
              "                \n",
              "                    window.PLOTLYENV=window.PLOTLYENV || {};\n",
              "                    \n",
              "                if (document.getElementById(\"2e4506f5-542c-407b-9476-c177071e9181\")) {\n",
              "                    Plotly.newPlot(\n",
              "                        '2e4506f5-542c-407b-9476-c177071e9181',\n",
              "                        [{\"autobinx\": false, \"histnorm\": \"probability density\", \"legendgroup\": \"age\", \"marker\": {\"color\": \"rgb(31, 119, 180)\"}, \"name\": \"age\", \"opacity\": 0.7, \"type\": \"histogram\", \"x\": [63, 37, 41, 56, 57, 57, 56, 44, 52, 57, 54, 48, 49, 64, 58, 50, 58, 66, 43, 69, 59, 44, 42, 61, 40, 71, 59, 51, 65, 53, 41, 65, 44, 54, 51, 46, 54, 54, 65, 65, 51, 48, 45, 53, 39, 52, 44, 47, 53, 53, 51, 66, 62, 44, 63, 52, 48, 45, 34, 57, 71, 54, 52, 41, 58, 35, 51, 45, 44, 62, 54, 51, 29, 51, 43, 55, 51, 59, 52, 58, 41, 45, 60, 52, 42, 67, 68, 46, 54, 58, 48, 57, 52, 54, 45, 53, 62, 52, 43, 53, 42, 59, 63, 42, 50, 68, 69, 45, 50, 50, 64, 57, 64, 43, 55, 37, 41, 56, 46, 46, 64, 59, 41, 54, 39, 34, 47, 67, 52, 74, 54, 49, 42, 41, 41, 49, 60, 62, 57, 64, 51, 43, 42, 67, 76, 70, 44, 60, 44, 42, 66, 71, 64, 66, 39, 58, 47, 35, 58, 56, 56, 55, 41, 38, 38, 67, 67, 62, 63, 53, 56, 48, 58, 58, 60, 40, 60, 64, 43, 57, 55, 65, 61, 58, 50, 44, 60, 54, 50, 41, 51, 58, 54, 60, 60, 59, 46, 67, 62, 65, 44, 60, 58, 68, 62, 52, 59, 60, 49, 59, 57, 61, 39, 61, 56, 43, 62, 63, 65, 48, 63, 55, 65, 56, 54, 70, 62, 35, 59, 64, 47, 57, 55, 64, 70, 51, 58, 60, 77, 35, 70, 59, 64, 57, 56, 48, 56, 66, 54, 69, 51, 43, 62, 67, 59, 45, 58, 50, 62, 38, 66, 52, 53, 63, 54, 66, 55, 49, 54, 56, 46, 61, 67, 58, 47, 52, 58, 57, 58, 61, 42, 52, 59, 40, 61, 46, 59, 57, 57, 55, 61, 58, 58, 67, 44, 63, 63, 59, 57, 45, 68, 57, 57], \"xaxis\": \"x\", \"xbins\": {\"end\": 77.0, \"size\": 10, \"start\": 29.0}, \"yaxis\": \"y\"}, {\"legendgroup\": \"age\", \"marker\": {\"color\": \"rgb(31, 119, 180)\"}, \"mode\": \"lines\", \"name\": \"age\", \"showlegend\": false, \"type\": \"scatter\", \"x\": [29.0, 29.096, 29.192, 29.288, 29.384, 29.48, 29.576, 29.672, 29.768, 29.864, 29.96, 30.056, 30.152, 30.248, 30.344, 30.44, 30.536, 30.632, 30.728, 30.824, 30.92, 31.016, 31.112000000000002, 31.208, 31.304, 31.4, 31.496, 31.592, 31.688, 31.784, 31.88, 31.976, 32.072, 32.168, 32.264, 32.36, 32.456, 32.552, 32.648, 32.744, 32.84, 32.936, 33.032, 33.128, 33.224000000000004, 33.32, 33.416, 33.512, 33.608, 33.704, 33.8, 33.896, 33.992, 34.088, 34.184, 34.28, 34.376, 34.472, 34.568, 34.664, 34.76, 34.856, 34.952, 35.048, 35.144, 35.24, 35.336, 35.432, 35.528, 35.624, 35.72, 35.816, 35.912, 36.008, 36.104, 36.2, 36.296, 36.392, 36.488, 36.584, 36.68, 36.775999999999996, 36.872, 36.968, 37.064, 37.16, 37.256, 37.352000000000004, 37.448, 37.544, 37.64, 37.736000000000004, 37.832, 37.928, 38.024, 38.12, 38.216, 38.312, 38.408, 38.504, 38.6, 38.696, 38.792, 38.888, 38.984, 39.08, 39.176, 39.272, 39.368, 39.464, 39.56, 39.656, 39.752, 39.848, 39.944, 40.04, 40.135999999999996, 40.232, 40.328, 40.424, 40.519999999999996, 40.616, 40.712, 40.808, 40.903999999999996, 41.0, 41.096000000000004, 41.192, 41.288, 41.384, 41.480000000000004, 41.576, 41.672, 41.768, 41.864000000000004, 41.96, 42.056, 42.152, 42.248, 42.344, 42.44, 42.536, 42.632, 42.728, 42.824, 42.92, 43.016, 43.112, 43.208, 43.304, 43.4, 43.496, 43.592, 43.688, 43.784, 43.88, 43.976, 44.072, 44.168, 44.263999999999996, 44.36, 44.456, 44.552, 44.647999999999996, 44.744, 44.84, 44.936, 45.032, 45.128, 45.224000000000004, 45.32, 45.416, 45.512, 45.608000000000004, 45.704, 45.8, 45.896, 45.992000000000004, 46.088, 46.184, 46.28, 46.376000000000005, 46.472, 46.568, 46.664, 46.760000000000005, 46.856, 46.952, 47.048, 47.144, 47.239999999999995, 47.336, 47.432, 47.528, 47.623999999999995, 47.72, 47.816, 47.912, 48.007999999999996, 48.104, 48.2, 48.296, 48.391999999999996, 48.488, 48.584, 48.68, 48.775999999999996, 48.872, 48.968, 49.064, 49.16, 49.256, 49.352000000000004, 49.448, 49.544, 49.64, 49.736000000000004, 49.832, 49.928, 50.024, 50.120000000000005, 50.216, 50.312, 50.408, 50.504000000000005, 50.6, 50.696, 50.792, 50.888000000000005, 50.984, 51.08, 51.176, 51.272, 51.367999999999995, 51.464, 51.56, 51.656, 51.751999999999995, 51.848, 51.944, 52.04, 52.135999999999996, 52.232, 52.328, 52.424, 52.519999999999996, 52.616, 52.712, 52.808, 52.903999999999996, 53.0, 53.096000000000004, 53.192, 53.288, 53.384, 53.480000000000004, 53.576, 53.672, 53.768, 53.864000000000004, 53.96, 54.056, 54.152, 54.248000000000005, 54.344, 54.44, 54.536, 54.632000000000005, 54.728, 54.824, 54.92, 55.016, 55.111999999999995, 55.208, 55.304, 55.4, 55.495999999999995, 55.592, 55.688, 55.784, 55.879999999999995, 55.976, 56.072, 56.168, 56.263999999999996, 56.36, 56.456, 56.552, 56.647999999999996, 56.744, 56.84, 56.936, 57.032, 57.128, 57.224000000000004, 57.32, 57.416, 57.512, 57.608000000000004, 57.704, 57.8, 57.896, 57.992000000000004, 58.088, 58.184, 58.28, 58.376000000000005, 58.472, 58.568, 58.664, 58.760000000000005, 58.856, 58.952, 59.048, 59.144, 59.239999999999995, 59.336, 59.432, 59.528, 59.623999999999995, 59.72, 59.816, 59.912, 60.007999999999996, 60.104, 60.2, 60.296, 60.391999999999996, 60.488, 60.584, 60.68, 60.775999999999996, 60.872, 60.968, 61.064, 61.16, 61.256, 61.352, 61.448, 61.544, 61.64, 61.736, 61.832, 61.928, 62.024, 62.12, 62.216, 62.312, 62.408, 62.504, 62.6, 62.696, 62.792, 62.888, 62.984, 63.08, 63.176, 63.272, 63.368, 63.464, 63.56, 63.656, 63.752, 63.848, 63.944, 64.03999999999999, 64.136, 64.232, 64.328, 64.424, 64.52000000000001, 64.616, 64.712, 64.80799999999999, 64.904, 65.0, 65.096, 65.19200000000001, 65.288, 65.384, 65.47999999999999, 65.576, 65.672, 65.768, 65.864, 65.96000000000001, 66.056, 66.152, 66.24799999999999, 66.344, 66.44, 66.536, 66.632, 66.72800000000001, 66.824, 66.92, 67.01599999999999, 67.112, 67.208, 67.304, 67.4, 67.49600000000001, 67.592, 67.688, 67.78399999999999, 67.88, 67.976, 68.072, 68.168, 68.26400000000001, 68.36, 68.456, 68.55199999999999, 68.648, 68.744, 68.84, 68.936, 69.032, 69.128, 69.22399999999999, 69.32, 69.416, 69.512, 69.608, 69.70400000000001, 69.8, 69.896, 69.99199999999999, 70.088, 70.184, 70.28, 70.376, 70.47200000000001, 70.568, 70.664, 70.75999999999999, 70.856, 70.952, 71.048, 71.144, 71.24000000000001, 71.336, 71.432, 71.52799999999999, 71.624, 71.72, 71.816, 71.912, 72.00800000000001, 72.104, 72.2, 72.29599999999999, 72.392, 72.488, 72.584, 72.68, 72.77600000000001, 72.872, 72.968, 73.064, 73.16, 73.256, 73.352, 73.44800000000001, 73.544, 73.64, 73.73599999999999, 73.832, 73.928, 74.024, 74.12, 74.21600000000001, 74.312, 74.408, 74.50399999999999, 74.6, 74.696, 74.792, 74.888, 74.98400000000001, 75.08, 75.176, 75.27199999999999, 75.368, 75.464, 75.56, 75.656, 75.75200000000001, 75.848, 75.944, 76.03999999999999, 76.136, 76.232, 76.328, 76.424, 76.52000000000001, 76.616, 76.712, 76.80799999999999, 76.904], \"xaxis\": \"x\", \"y\": [0.0009099964106332656, 0.0009406348929687074, 0.0009723768144354339, 0.001005270348799153, 0.0010393640624148533, 0.0010747067134812347, 0.0011113470442591735, 0.0011493335678767229, 0.0011887143514592094, 0.0012295367974257346, 0.0012718474248811294, 0.0013156916531036197, 0.0013611135891817559, 0.0014081558218882765, 0.0014568592238925517, 0.0015072627644060908, 0.0015594033343267464, 0.0016133155858962034, 0.0016690317888119416, 0.0017265817046391045, 0.0017859924812499291, 0.001847288568879165, 0.0019104916592239329, 0.0019756206488368423, 0.0020426916278633886, 0.0021117178949598848, 0.002182709998998475, 0.0022556758079229997, 0.0023306206048660473, 0.0024075472113750636, 0.0024864561373275163, 0.0025673457568433666, 0.002650212509230847, 0.002735051123731185, 0.002821854866562763, 0.002910615808507222, 0.0030013251110330504, 0.003093973328717807, 0.0031885507255122567, 0.003285047602189275, 0.0033834546321412904, 0.0034837632025335264, 0.0035859657576881557, 0.003690056141469506, 0.003796029935362528, 0.003903884788888858, 0.004013620738985918, 0.004125240514986763, 0.0042387498258815316, 0.004354157626615002, 0.004471476360278839, 0.004590722173191423, 0.004711915100020781, 0.004835079216296641, 0.004960242755874184, 0.0050874381911525535, 0.005216702274114108, 0.005348076036533565, 0.00548160474800579, 0.005617337830756844, 0.0057553287305298455, 0.005895634743173508, 0.006038316796904752, 0.006183439190562116, 0.006331069288514111, 0.006481277173229881, 0.006634135256858434, 0.0067897178534928465, 0.006948100714114534, 0.007109360526518088, 0.007273574382807049, 0.007440819217320631, 0.00761117121810324, 0.007784705215255864, 0.007961494049712612, 0.008141607926165804, 0.008325113754013366, 0.008512074480330102, 0.008702548418958572, 0.008896588579886972, 0.009094242003118496, 0.009295549101251115, 0.009500543014967194, 0.009709248985590325, 0.009921683748793418, 0.010137854953445906, 0.01035776060946414, 0.010581388568383405, 0.010808716040200917, 0.011039709149849064, 0.011274322536449851, 0.011512498998273573, 0.011754169186084192, 0.011999251347295205, 0.012247651123093494, 0.01249926140040721, 0.012753962220310146, 0.01301162074415739, 0.013272091278453111, 0.013535215359146405, 0.013800821895753254, 0.014068727375398452, 0.014338736126574797, 0.014610640642121342, 0.014884221960634225, 0.01515925010524081, 0.01543548457839482, 0.015712674911085578, 0.015990561264601237, 0.016268875082743054, 0.016547339792160175, 0.01682567154825569, 0.017103580023915852, 0.017380769238124587, 0.01765693842135399, 0.017931782914466086, 0.018204995097717634, 0.018476265346337745, 0.018745283009037307, 0.019011737405716954, 0.019275318840564288, 0.019535719626669872, 0.019792635118245125, 0.020045764746498513, 0.020294813055208454, 0.020539490732033056, 0.02077951563161146, 0.021014613786537784, 0.02124452040233293, 0.02146898083259012, 0.02168775153054006, 0.021900600973358005, 0.02210731055562507, 0.02230767544845719, 0.022501505420925733, 0.02268862562051317, 0.022868877309481013, 0.023042118554160544, 0.02320822486433065, 0.023367089779997248, 0.023518625403057197, 0.023662762871497694, 0.023799452773960034, 0.023928665502685274, 0.02405039154304775, 0.02416464169808069, 0.024271447246606803, 0.024370860033790562, 0.02446295249315064, 0.024547817599289284, 0.02462556875082241, 0.024696339583226593, 0.02476028371155481, 0.02481757440321237, 0.024868404181229428, 0.024912984358714384, 0.024951544505420527, 0.024984331847615792, 0.025011610602693184, 0.025033661250222917, 0.025050779741396002, 0.025063276649070217, 0.025071476260879282, 0.02507571561812049, 0.025076343503383006, 0.025073719380123923, 0.025068212287636924, 0.025060199695088697, 0.025050066318525098, 0.025038202904959363, 0.025025004987858798, 0.025010871618539255, 0.024996204078151594, 0.024981404575107866, 0.024966874932941124, 0.024953015273720687, 0.024940222702251515, 0.024928889996379176, 0.024919404308782984, 0.024912145885685428, 0.024907486807925684, 0.02490578975983552, 0.024907406831324513, 0.024912678358520277, 0.024921931808221033, 0.024935480711298356, 0.024953623650044693, 0.024976643304280993, 0.025004805560834075, 0.025038358690760796, 0.02507753259842747, 0.025122538146261354, 0.025173566558670025, 0.025230788908273676, 0.02529435568722005, 0.025364396465954283, 0.02544101964138932, 0.025524312275980537, 0.025614340028742695, 0.02571114717876718, 0.025814756741300838, 0.02592517067594175, 0.026042370185988668, 0.026166316107459522, 0.026296949385768667, 0.026434191637529084, 0.026577945794423043, 0.02672809682557422, 0.026884512534353547, 0.027047044425063605, 0.027215528634482303, 0.02738978692280113, 0.02756962771807871, 0.027754847207943047, 0.02794523047192366, 0.028140552647481804, 0.028340580122530486, 0.028545071747011326, 0.028753780055906702, 0.028966452495936955, 0.029182832648108427, 0.02940266143825151, 0.02962567832771328, 0.02985162247645697, 0.030080233870957932, 0.030311254409484935, 0.030544428937615428, 0.03077950622714266, 0.031016239891902678, 0.03125438923447367, 0.03149372001817627, 0.03173400515932485, 0.03197502533525678, 0.03221656950428054, 0.03245843533433489, 0.03270042953784576, 0.032942368110985006, 0.03318407647627696, 0.03342538952826811, 0.033666151582748, 0.03390621623079639, 0.03414544609971732, 0.034383712523701884, 0.03462089512782858, 0.034856881329760746, 0.035091565764226, 0.0353248496360544, 0.035556640008203105, 0.03578684903181063, 0.036015393125873874, 0.036242192114651094, 0.036467168331323394, 0.03669024569682912, 0.03691134878307799, 0.03713040186998205, 0.03734732800588146, 0.03756204808101277, 0.0377744799236431, 0.037984537428391925, 0.03819212972607081, 0.03839716040409754, 0.0385995267861802, 0.038799119279525944, 0.038995820797307054, 0.03918950626351866, 0.03938004220669434, 0.03956728644820612, 0.039751087890080194, 0.0399312864064044, 0.04010771284150389, 0.04028018911712079, 0.04044852844986108, 0.040612535679175166, 0.040772007705130876, 0.040926734034220626, 0.04107649743043506, 0.041221074667841834, 0.041360237379932024, 0.04149375300006203, 0.04162138578641952, 0.04174289792410044, 0.04185805069609743, 0.04196660571428544, 0.042068326200849486, 0.042162978310042384, 0.042250332479690844, 0.04233016480149332, 0.04240225839887636, 0.04246640480099899, 0.042522405301425696, 0.04257007229001821, 0.04260923054673826, 0.04263971848629242, 0.04266138934289964, 0.042674112284903074, 0.042677773449489025, 0.0426722768884077, 0.04265754541630198, 0.042633521354045516, 0.04260016716035096, 0.04255746594583434, 0.04250542186469485, 0.042444060380189996, 0.04237342840113601, 0.04229359428773521, 0.042204647726121806, 0.04210669947209887, 0.04199988096562223, 0.0418843438186406, 0.041760259179933534, 0.04162781698157404, 0.041487225072587064, 0.04133870824625512, 0.04118250716834187, 0.041018877214250335, 0.040848087223798624, 0.04067041818287908, 0.04048616184176236, 0.04029561928020815, 0.0400990994298519, 0.03989691756455257, 0.039689393769494, 0.03947685139986007, 0.0392596155398217, 0.03903801147241299, 0.0388123631706133, 0.03858299181961824, 0.038350214379859776, 0.03811434219984814, 0.03787567968734871, 0.03763452304678872, 0.03739115909011945, 0.037145864127643605, 0.03689890294456671, 0.03665052786824798, 0.03640097793032952, 0.03615047812710258, 0.03589923878065782, 0.03564745500254685, 0.03539530626087967, 0.0351429560509969, 0.034890551669092155, 0.0346382240874296, 0.03438608792910624, 0.034134241539653554, 0.033882767152166544, 0.0336317311420862, 0.03338118436725772, 0.03313116258843088, 0.03288168696497706, 0.032632764620254745, 0.03238438927077974, 0.03213654191312795, 0.031889191562338944, 0.031642296035472035, 0.03139580277391667, 0.03114964969804965, 0.030903766087877923, 0.03065807348339839, 0.030412486598536223, 0.03016691424269902, 0.02992126024419252, 0.029675424369982772, 0.0294293032365626, 0.029182791206968983, 0.028935781269316393, 0.028688165892539155, 0.02843983785538156, 0.028190691045026615, 0.02794062122211526, 0.027689526749270593, 0.027437309280603703, 0.027183874410038163, 0.026929132276646922, 0.026672998125539877, 0.0264153928231811, 0.02615624332633982, 0.02589548310419378, 0.025633052513402945, 0.025368899126254972, 0.025102978012253363, 0.02483525197376777, 0.02456569173659983, 0.024294276096534492, 0.02402099202313946, 0.023745834722257234, 0.023468807658791307, 0.023189922541529785, 0.022909199271871388, 0.022626665858423455, 0.0223423582995289, 0.022056320435844608, 0.02176860377514897, 0.021479267291589204, 0.02118837720159665, 0.02089600671870289, 0.020602235789477074, 0.020307150812775433, 0.020010844344456474, 0.019713414789660568, 0.019414966084683873, 0.01911560737040406, 0.018815452659122024, 0.018514620496589272, 0.018213233620883545, 0.017911418619679858, 0.017609305587347215, 0.01730702778317144, 0.017004721291880083, 0.01670252468750917, 0.016400578701521805, 0.01609902589595249, 0.015798010342222037, 0.015497677306136643, 0.01519817293946148, 0.014899643978338711, 0.014602237448708059, 0.01430610037878214, 0.014011379518534192, 0.013718221066070114, 0.013426770400680159, 0.013137171822307026, 0.012849568297111423, 0.012564101208783715, 0.012280910115222634, 0.012000132510193657, 0.011721903589581507, 0.011446356021867148, 0.011173619722488976, 0.010903821631789452, 0.010637085496299898, 0.010373531653180586, 0.010113276817706173, 0.009856433873766304, 0.009603111667440802, 0.009353414803801773, 0.009107443447191738, 0.008865293125327347, 0.008627054537677765, 0.00839281336866606, 0.00816265010633763, 0.007936639867230885, 0.007714852228271085, 0.007497351066584487, 0.00728419440819824, 0.007075434286648656, 0.0068711166125648634, 0.006671281055327314, 0.0064759609379189485, 0.006285183146089117, 0.006098968052939667, 0.005917329460014965, 0.0057402745559338225, 0.005567803893544406, 0.00539991138650845, 0.00523658432613312, 0.005077803419167423, 0.004923542847164279, 0.004773770347882564, 0.00462844731906685, 0.0044875289447943055, 0.004350964344425825, 0.004218696744036517, 0.004090663670037596, 0.003966797164533886, 0.0038470240217942844, 0.0037312660450460034, 0.0036194403226400412, 0.003511459522478098, 0.003407232203438356, 0.00330666314239522, 0.003209653675294766, 0.0031161020506255137, 0.003025903793515131, 0.0029389520785890713, 0.0028551381096458208, 0.002774351504140534, 0.002696480680419523, 0.002621413245618483, 0.0025490363821229515, 0.0024792372304938783, 0.002411903266782422, 0.0023469226721964803, 0.002284184693136426, 0.0022235799896893754, 0.002165000970757053, 0.0021083421140941044, 0.002053500269647686, 0.002000374944715934, 0.0019488685695803754, 0.0018988867424147933, 0.0018503384524276238, 0.0018031362803576471, 0.0017571965756088867, 0.0017124396094814133, 0.0016687897041268956, 0.0016261753370303837, 0.001584529220991036, 0.00154378835974343, 0.0015038940795252854], \"yaxis\": \"y\"}],\n",
              "                        {\"barmode\": \"overlay\", \"hovermode\": \"closest\", \"legend\": {\"traceorder\": \"reversed\"}, \"template\": {\"data\": {\"bar\": [{\"error_x\": {\"color\": \"#2a3f5f\"}, \"error_y\": {\"color\": \"#2a3f5f\"}, \"marker\": {\"line\": {\"color\": \"#E5ECF6\", \"width\": 0.5}}, \"type\": \"bar\"}], \"barpolar\": [{\"marker\": {\"line\": {\"color\": \"#E5ECF6\", \"width\": 0.5}}, \"type\": \"barpolar\"}], \"carpet\": [{\"aaxis\": {\"endlinecolor\": \"#2a3f5f\", \"gridcolor\": \"white\", \"linecolor\": \"white\", \"minorgridcolor\": \"white\", \"startlinecolor\": \"#2a3f5f\"}, \"baxis\": {\"endlinecolor\": \"#2a3f5f\", \"gridcolor\": \"white\", \"linecolor\": \"white\", \"minorgridcolor\": \"white\", \"startlinecolor\": \"#2a3f5f\"}, \"type\": \"carpet\"}], \"choropleth\": [{\"colorbar\": {\"outlinewidth\": 0, \"ticks\": \"\"}, \"type\": \"choropleth\"}], \"contour\": [{\"colorbar\": {\"outlinewidth\": 0, \"ticks\": \"\"}, \"colorscale\": [[0.0, \"#0d0887\"], [0.1111111111111111, \"#46039f\"], [0.2222222222222222, \"#7201a8\"], [0.3333333333333333, \"#9c179e\"], [0.4444444444444444, \"#bd3786\"], [0.5555555555555556, \"#d8576b\"], [0.6666666666666666, \"#ed7953\"], [0.7777777777777778, \"#fb9f3a\"], [0.8888888888888888, \"#fdca26\"], [1.0, \"#f0f921\"]], \"type\": \"contour\"}], \"contourcarpet\": [{\"colorbar\": {\"outlinewidth\": 0, \"ticks\": \"\"}, \"type\": \"contourcarpet\"}], \"heatmap\": [{\"colorbar\": {\"outlinewidth\": 0, \"ticks\": \"\"}, \"colorscale\": [[0.0, \"#0d0887\"], [0.1111111111111111, \"#46039f\"], [0.2222222222222222, \"#7201a8\"], [0.3333333333333333, \"#9c179e\"], [0.4444444444444444, \"#bd3786\"], [0.5555555555555556, \"#d8576b\"], [0.6666666666666666, \"#ed7953\"], [0.7777777777777778, \"#fb9f3a\"], [0.8888888888888888, \"#fdca26\"], [1.0, \"#f0f921\"]], \"type\": \"heatmap\"}], \"heatmapgl\": [{\"colorbar\": {\"outlinewidth\": 0, \"ticks\": \"\"}, \"colorscale\": [[0.0, \"#0d0887\"], [0.1111111111111111, \"#46039f\"], [0.2222222222222222, \"#7201a8\"], [0.3333333333333333, \"#9c179e\"], [0.4444444444444444, \"#bd3786\"], [0.5555555555555556, \"#d8576b\"], [0.6666666666666666, \"#ed7953\"], [0.7777777777777778, \"#fb9f3a\"], [0.8888888888888888, \"#fdca26\"], [1.0, \"#f0f921\"]], \"type\": \"heatmapgl\"}], \"histogram\": [{\"marker\": {\"colorbar\": {\"outlinewidth\": 0, \"ticks\": \"\"}}, \"type\": \"histogram\"}], \"histogram2d\": [{\"colorbar\": {\"outlinewidth\": 0, \"ticks\": \"\"}, \"colorscale\": [[0.0, \"#0d0887\"], [0.1111111111111111, \"#46039f\"], [0.2222222222222222, \"#7201a8\"], [0.3333333333333333, \"#9c179e\"], [0.4444444444444444, \"#bd3786\"], [0.5555555555555556, \"#d8576b\"], [0.6666666666666666, \"#ed7953\"], [0.7777777777777778, \"#fb9f3a\"], [0.8888888888888888, \"#fdca26\"], [1.0, \"#f0f921\"]], \"type\": \"histogram2d\"}], \"histogram2dcontour\": [{\"colorbar\": {\"outlinewidth\": 0, \"ticks\": \"\"}, \"colorscale\": [[0.0, \"#0d0887\"], [0.1111111111111111, \"#46039f\"], [0.2222222222222222, \"#7201a8\"], [0.3333333333333333, \"#9c179e\"], [0.4444444444444444, \"#bd3786\"], [0.5555555555555556, \"#d8576b\"], [0.6666666666666666, \"#ed7953\"], [0.7777777777777778, \"#fb9f3a\"], [0.8888888888888888, \"#fdca26\"], [1.0, \"#f0f921\"]], \"type\": \"histogram2dcontour\"}], \"mesh3d\": [{\"colorbar\": {\"outlinewidth\": 0, \"ticks\": \"\"}, \"type\": \"mesh3d\"}], \"parcoords\": [{\"line\": {\"colorbar\": {\"outlinewidth\": 0, \"ticks\": \"\"}}, \"type\": \"parcoords\"}], \"pie\": [{\"automargin\": true, \"type\": \"pie\"}], \"scatter\": [{\"marker\": {\"colorbar\": {\"outlinewidth\": 0, \"ticks\": \"\"}}, \"type\": \"scatter\"}], \"scatter3d\": [{\"line\": {\"colorbar\": {\"outlinewidth\": 0, \"ticks\": \"\"}}, \"marker\": {\"colorbar\": {\"outlinewidth\": 0, \"ticks\": \"\"}}, \"type\": \"scatter3d\"}], \"scattercarpet\": [{\"marker\": {\"colorbar\": {\"outlinewidth\": 0, \"ticks\": \"\"}}, \"type\": \"scattercarpet\"}], \"scattergeo\": [{\"marker\": {\"colorbar\": {\"outlinewidth\": 0, \"ticks\": \"\"}}, \"type\": \"scattergeo\"}], \"scattergl\": [{\"marker\": {\"colorbar\": {\"outlinewidth\": 0, \"ticks\": \"\"}}, \"type\": \"scattergl\"}], \"scattermapbox\": [{\"marker\": {\"colorbar\": {\"outlinewidth\": 0, \"ticks\": \"\"}}, \"type\": \"scattermapbox\"}], \"scatterpolar\": [{\"marker\": {\"colorbar\": {\"outlinewidth\": 0, \"ticks\": \"\"}}, \"type\": \"scatterpolar\"}], \"scatterpolargl\": [{\"marker\": {\"colorbar\": {\"outlinewidth\": 0, \"ticks\": \"\"}}, \"type\": \"scatterpolargl\"}], \"scatterternary\": [{\"marker\": {\"colorbar\": {\"outlinewidth\": 0, \"ticks\": \"\"}}, \"type\": \"scatterternary\"}], \"surface\": [{\"colorbar\": {\"outlinewidth\": 0, \"ticks\": \"\"}, \"colorscale\": [[0.0, \"#0d0887\"], [0.1111111111111111, \"#46039f\"], [0.2222222222222222, \"#7201a8\"], [0.3333333333333333, \"#9c179e\"], [0.4444444444444444, \"#bd3786\"], [0.5555555555555556, \"#d8576b\"], [0.6666666666666666, \"#ed7953\"], [0.7777777777777778, \"#fb9f3a\"], [0.8888888888888888, \"#fdca26\"], [1.0, \"#f0f921\"]], \"type\": \"surface\"}], \"table\": [{\"cells\": {\"fill\": {\"color\": \"#EBF0F8\"}, \"line\": {\"color\": \"white\"}}, \"header\": {\"fill\": {\"color\": \"#C8D4E3\"}, \"line\": {\"color\": \"white\"}}, \"type\": \"table\"}]}, \"layout\": {\"annotationdefaults\": {\"arrowcolor\": \"#2a3f5f\", \"arrowhead\": 0, \"arrowwidth\": 1}, \"coloraxis\": {\"colorbar\": {\"outlinewidth\": 0, \"ticks\": \"\"}}, \"colorscale\": {\"diverging\": [[0, \"#8e0152\"], [0.1, \"#c51b7d\"], [0.2, \"#de77ae\"], [0.3, \"#f1b6da\"], [0.4, \"#fde0ef\"], [0.5, \"#f7f7f7\"], [0.6, \"#e6f5d0\"], [0.7, \"#b8e186\"], [0.8, \"#7fbc41\"], [0.9, \"#4d9221\"], [1, \"#276419\"]], \"sequential\": [[0.0, \"#0d0887\"], [0.1111111111111111, \"#46039f\"], [0.2222222222222222, \"#7201a8\"], [0.3333333333333333, \"#9c179e\"], [0.4444444444444444, \"#bd3786\"], [0.5555555555555556, \"#d8576b\"], [0.6666666666666666, \"#ed7953\"], [0.7777777777777778, \"#fb9f3a\"], [0.8888888888888888, \"#fdca26\"], [1.0, \"#f0f921\"]], \"sequentialminus\": [[0.0, \"#0d0887\"], [0.1111111111111111, \"#46039f\"], [0.2222222222222222, \"#7201a8\"], [0.3333333333333333, \"#9c179e\"], [0.4444444444444444, \"#bd3786\"], [0.5555555555555556, \"#d8576b\"], [0.6666666666666666, \"#ed7953\"], [0.7777777777777778, \"#fb9f3a\"], [0.8888888888888888, \"#fdca26\"], [1.0, \"#f0f921\"]]}, \"colorway\": [\"#636efa\", \"#EF553B\", \"#00cc96\", \"#ab63fa\", \"#FFA15A\", \"#19d3f3\", \"#FF6692\", \"#B6E880\", \"#FF97FF\", \"#FECB52\"], \"font\": {\"color\": \"#2a3f5f\"}, \"geo\": {\"bgcolor\": \"white\", \"lakecolor\": \"white\", \"landcolor\": \"#E5ECF6\", \"showlakes\": true, \"showland\": true, \"subunitcolor\": \"white\"}, \"hoverlabel\": {\"align\": \"left\"}, \"hovermode\": \"closest\", \"mapbox\": {\"style\": \"light\"}, \"paper_bgcolor\": \"white\", \"plot_bgcolor\": \"#E5ECF6\", \"polar\": {\"angularaxis\": {\"gridcolor\": \"white\", \"linecolor\": \"white\", \"ticks\": \"\"}, \"bgcolor\": \"#E5ECF6\", \"radialaxis\": {\"gridcolor\": \"white\", \"linecolor\": \"white\", \"ticks\": \"\"}}, \"scene\": {\"xaxis\": {\"backgroundcolor\": \"#E5ECF6\", \"gridcolor\": \"white\", \"gridwidth\": 2, \"linecolor\": \"white\", \"showbackground\": true, \"ticks\": \"\", \"zerolinecolor\": \"white\"}, \"yaxis\": {\"backgroundcolor\": \"#E5ECF6\", \"gridcolor\": \"white\", \"gridwidth\": 2, \"linecolor\": \"white\", \"showbackground\": true, \"ticks\": \"\", \"zerolinecolor\": \"white\"}, \"zaxis\": {\"backgroundcolor\": \"#E5ECF6\", \"gridcolor\": \"white\", \"gridwidth\": 2, \"linecolor\": \"white\", \"showbackground\": true, \"ticks\": \"\", \"zerolinecolor\": \"white\"}}, \"shapedefaults\": {\"line\": {\"color\": \"#2a3f5f\"}}, \"ternary\": {\"aaxis\": {\"gridcolor\": \"white\", \"linecolor\": \"white\", \"ticks\": \"\"}, \"baxis\": {\"gridcolor\": \"white\", \"linecolor\": \"white\", \"ticks\": \"\"}, \"bgcolor\": \"#E5ECF6\", \"caxis\": {\"gridcolor\": \"white\", \"linecolor\": \"white\", \"ticks\": \"\"}}, \"title\": {\"x\": 0.05}, \"xaxis\": {\"automargin\": true, \"gridcolor\": \"white\", \"linecolor\": \"white\", \"ticks\": \"\", \"title\": {\"standoff\": 15}, \"zerolinecolor\": \"white\", \"zerolinewidth\": 2}, \"yaxis\": {\"automargin\": true, \"gridcolor\": \"white\", \"linecolor\": \"white\", \"ticks\": \"\", \"title\": {\"standoff\": 15}, \"zerolinecolor\": \"white\", \"zerolinewidth\": 2}}}, \"xaxis\": {\"anchor\": \"y2\", \"domain\": [0.0, 1.0], \"zeroline\": false}, \"yaxis\": {\"anchor\": \"free\", \"domain\": [0.0, 1], \"position\": 0.0}},\n",
              "                        {\"responsive\": true}\n",
              "                    ).then(function(){\n",
              "                            \n",
              "var gd = document.getElementById('2e4506f5-542c-407b-9476-c177071e9181');\n",
              "var x = new MutationObserver(function (mutations, observer) {{\n",
              "        var display = window.getComputedStyle(gd).display;\n",
              "        if (!display || display === 'none') {{\n",
              "            console.log([gd, 'removed!']);\n",
              "            Plotly.purge(gd);\n",
              "            observer.disconnect();\n",
              "        }}\n",
              "}});\n",
              "\n",
              "// Listen for the removal of the full notebook cells\n",
              "var notebookContainer = gd.closest('#notebook-container');\n",
              "if (notebookContainer) {{\n",
              "    x.observe(notebookContainer, {childList: true});\n",
              "}}\n",
              "\n",
              "// Listen for the clearing of the current output cell\n",
              "var outputEl = gd.closest('.output');\n",
              "if (outputEl) {{\n",
              "    x.observe(outputEl, {childList: true});\n",
              "}}\n",
              "\n",
              "                        })\n",
              "                };\n",
              "                \n",
              "            </script>\n",
              "        </div>\n",
              "</body>\n",
              "</html>"
            ]
          },
          "metadata": {
            "tags": []
          }
        }
      ]
    },
    {
      "cell_type": "markdown",
      "metadata": {
        "id": "igsR4nwcO-YY"
      },
      "source": [
        "*The dataset contains people with varied ages, which is a good thing forthe model to generalise better*"
      ]
    },
    {
      "cell_type": "markdown",
      "metadata": {
        "id": "vUHHA9HRPT7b"
      },
      "source": [
        "**Lets see the correlation between the different attributes**"
      ]
    },
    {
      "cell_type": "code",
      "metadata": {
        "colab": {
          "base_uri": "https://localhost:8080/",
          "height": 613
        },
        "id": "MxFgvk-RPb2q",
        "outputId": "97b67bef-3c47-48d0-8825-d97884784a5a"
      },
      "source": [
        "plt.figure(figsize=(15,10))\n",
        "sns.heatmap(df.corr(),cmap='Accent',annot=True)"
      ],
      "execution_count": null,
      "outputs": [
        {
          "output_type": "execute_result",
          "data": {
            "text/plain": [
              "<matplotlib.axes._subplots.AxesSubplot at 0x7ffa74316610>"
            ]
          },
          "metadata": {
            "tags": []
          },
          "execution_count": 199
        },
        {
          "output_type": "display_data",
          "data": {
            "image/png": "[encoded data removed]",
            "text/plain": [
              "<Figure size 1080x720 with 2 Axes>"
            ]
          },
          "metadata": {
            "tags": [],
            "needs_background": "light"
          }
        }
      ]
    },
    {
      "cell_type": "code",
      "metadata": {
        "id": "WKRvCEboPKZv"
      },
      "source": [
        ""
      ],
      "execution_count": null,
      "outputs": []
    },
    {
      "cell_type": "markdown",
      "metadata": {
        "id": "VApZj9XBH_EQ"
      },
      "source": [
        "# Data Preprocessing"
      ]
    },
    {
      "cell_type": "markdown",
      "metadata": {
        "id": "ZnR3P6Q0OqpR"
      },
      "source": [
        "**Seperating the data from the label**"
      ]
    },
    {
      "cell_type": "code",
      "metadata": {
        "colab": {
          "base_uri": "https://localhost:8080/"
        },
        "id": "5FpGkQbPCpdQ",
        "outputId": "0ed42610-596c-4616-c068-06cd70c0549f"
      },
      "source": [
        "target_name = \"target\"\n",
        "target = df[target_name]\n",
        "data = df.drop(columns=[target_name, ])\n",
        "data.head"
      ],
      "execution_count": null,
      "outputs": [
        {
          "output_type": "execute_result",
          "data": {
            "text/plain": [
              "<bound method NDFrame.head of      age  sex  cp  trestbps  chol  ...  exang  oldpeak  slope  ca  thal\n",
              "0     63    1   3       145   233  ...      0      2.3      0   0     1\n",
              "1     37    1   2       130   250  ...      0      3.5      0   0     2\n",
              "2     41    0   1       130   204  ...      0      1.4      2   0     2\n",
              "3     56    1   1       120   236  ...      0      0.8      2   0     2\n",
              "4     57    0   0       120   354  ...      1      0.6      2   0     2\n",
              "..   ...  ...  ..       ...   ...  ...    ...      ...    ...  ..   ...\n",
              "298   57    0   0       140   241  ...      1      0.2      1   0     3\n",
              "299   45    1   3       110   264  ...      0      1.2      1   0     3\n",
              "300   68    1   0       144   193  ...      0      3.4      1   2     3\n",
              "301   57    1   0       130   131  ...      1      1.2      1   1     3\n",
              "302   57    0   1       130   236  ...      0      0.0      1   1     2\n",
              "\n",
              "[303 rows x 13 columns]>"
            ]
          },
          "metadata": {
            "tags": []
          },
          "execution_count": 204
        }
      ]
    },
    {
      "cell_type": "markdown",
      "metadata": {
        "id": "tGAKBesjO5IY"
      },
      "source": [
        "**Specifying which coloumns are numerical and which ones are categorical**"
      ]
    },
    {
      "cell_type": "code",
      "metadata": {
        "id": "lFT3uK9stMpS"
      },
      "source": [
        "numerical_columns = [\n",
        "    \"age\", \"trestbps\", \"chol\", \"thalach\",\"oldpeak\"]\n",
        "categorical_columns = [\n",
        "    \"sex\", \"cp\", \"fbs\", \"restecg\",\"exang\",\"thal\",\"ca\"]"
      ],
      "execution_count": null,
      "outputs": []
    },
    {
      "cell_type": "markdown",
      "metadata": {
        "id": "guO5thKFPC9o"
      },
      "source": [
        "**Assigning preprocessors for the numerical and categorical data**"
      ]
    },
    {
      "cell_type": "code",
      "metadata": {
        "id": "XF-dLqMEReIv"
      },
      "source": [
        "categorical_preprocessor = OneHotEncoder(handle_unknown=\"ignore\")\n",
        "numerical_preprocessor = StandardScaler()\n",
        "\n",
        "preprocessor = ColumnTransformer([\n",
        "    ('one-hot-encoder', categorical_preprocessor, categorical_columns),\n",
        "    ('standard-scaler', numerical_preprocessor, numerical_columns)])"
      ],
      "execution_count": null,
      "outputs": []
    },
    {
      "cell_type": "markdown",
      "metadata": {
        "id": "ZlId5X__HY4e"
      },
      "source": [
        "**Test Train Split**"
      ]
    },
    {
      "cell_type": "code",
      "metadata": {
        "id": "lG-3h_CRHbzf"
      },
      "source": [
        "data_train, data_test, target_train, target_test = train_test_split(\n",
        "    data, target, random_state=42)"
      ],
      "execution_count": null,
      "outputs": []
    },
    {
      "cell_type": "markdown",
      "metadata": {
        "id": "4mHX20NpRd2w"
      },
      "source": [
        "# Logictic Regression"
      ]
    },
    {
      "cell_type": "markdown",
      "metadata": {
        "id": "qzGB2XMDMSkp"
      },
      "source": [
        "**Making the pipeline**"
      ]
    },
    {
      "cell_type": "code",
      "metadata": {
        "colab": {
          "base_uri": "https://localhost:8080/",
          "height": 164
        },
        "id": "wXosB7M_McYD",
        "outputId": "8554f266-af16-44d8-eee5-79cfb29285f4"
      },
      "source": [
        "logisticRegr = make_pipeline(preprocessor, LogisticRegression())"
      ],
      "execution_count": null,
      "outputs": [
        {
          "output_type": "execute_result",
          "data": {
            "text/html": [
              "<style>div.sk-top-container {color: black;background-color: white;}div.sk-toggleable {background-color: white;}label.sk-toggleable__label {cursor: pointer;display: block;width: 100%;margin-bottom: 0;padding: 0.2em 0.3em;box-sizing: border-box;text-align: center;}div.sk-toggleable__content {max-height: 0;max-width: 0;overflow: hidden;text-align: left;background-color: #f0f8ff;}div.sk-toggleable__content pre {margin: 0.2em;color: black;border-radius: 0.25em;background-color: #f0f8ff;}input.sk-toggleable__control:checked~div.sk-toggleable__content {max-height: 200px;max-width: 100%;overflow: auto;}div.sk-estimator input.sk-toggleable__control:checked~label.sk-toggleable__label {background-color: #d4ebff;}div.sk-label input.sk-toggleable__control:checked~label.sk-toggleable__label {background-color: #d4ebff;}input.sk-hidden--visually {border: 0;clip: rect(1px 1px 1px 1px);clip: rect(1px, 1px, 1px, 1px);height: 1px;margin: -1px;overflow: hidden;padding: 0;position: absolute;width: 1px;}div.sk-estimator {font-family: monospace;background-color: #f0f8ff;margin: 0.25em 0.25em;border: 1px dotted black;border-radius: 0.25em;box-sizing: border-box;}div.sk-estimator:hover {background-color: #d4ebff;}div.sk-parallel-item::after {content: \"\";width: 100%;border-bottom: 1px solid gray;flex-grow: 1;}div.sk-label:hover label.sk-toggleable__label {background-color: #d4ebff;}div.sk-serial::before {content: \"\";position: absolute;border-left: 1px solid gray;box-sizing: border-box;top: 2em;bottom: 0;left: 50%;}div.sk-serial {display: flex;flex-direction: column;align-items: center;background-color: white;}div.sk-item {z-index: 1;}div.sk-parallel {display: flex;align-items: stretch;justify-content: center;background-color: white;}div.sk-parallel-item {display: flex;flex-direction: column;position: relative;background-color: white;}div.sk-parallel-item:first-child::after {align-self: flex-end;width: 50%;}div.sk-parallel-item:last-child::after {align-self: flex-start;width: 50%;}div.sk-parallel-item:only-child::after {width: 0;}div.sk-dashed-wrapped {border: 1px dashed gray;margin: 0.2em;box-sizing: border-box;padding-bottom: 0.1em;background-color: white;position: relative;}div.sk-label label {font-family: monospace;font-weight: bold;background-color: white;display: inline-block;line-height: 1.2em;}div.sk-label-container {position: relative;z-index: 2;text-align: center;}div.sk-container {display: inline-block;position: relative;}</style><div class=\"sk-top-container\"><div class=\"sk-container\"><div class=\"sk-item sk-dashed-wrapped\"><div class=\"sk-label-container\"><div class=\"sk-label sk-toggleable\"><input class=\"sk-toggleable__control sk-hidden--visually\" id=\"e90d54bb-e19a-4e70-a8de-41b5f9fe4a7e\" type=\"checkbox\" ><label class=\"sk-toggleable__label\" for=\"e90d54bb-e19a-4e70-a8de-41b5f9fe4a7e\">Pipeline</label><div class=\"sk-toggleable__content\"><pre>Pipeline(steps=[('columntransformer',\n",
              "                 ColumnTransformer(transformers=[('one-hot-encoder',\n",
              "                                                  OneHotEncoder(handle_unknown='ignore'),\n",
              "                                                  ['sex', 'cp', 'fbs',\n",
              "                                                   'restecg', 'exang', 'thal',\n",
              "                                                   'ca']),\n",
              "                                                 ('standard-scaler',\n",
              "                                                  StandardScaler(),\n",
              "                                                  ['age', 'trestbps', 'chol',\n",
              "                                                   'thalach', 'oldpeak'])])),\n",
              "                ('logisticregression', LogisticRegression())])</pre></div></div></div><div class=\"sk-serial\"><div class=\"sk-item sk-dashed-wrapped\"><div class=\"sk-label-container\"><div class=\"sk-label sk-toggleable\"><input class=\"sk-toggleable__control sk-hidden--visually\" id=\"dd53f0c8-b9bb-48e8-bc39-914e44a7687c\" type=\"checkbox\" ><label class=\"sk-toggleable__label\" for=\"dd53f0c8-b9bb-48e8-bc39-914e44a7687c\">columntransformer: ColumnTransformer</label><div class=\"sk-toggleable__content\"><pre>ColumnTransformer(transformers=[('one-hot-encoder',\n",
              "                                 OneHotEncoder(handle_unknown='ignore'),\n",
              "                                 ['sex', 'cp', 'fbs', 'restecg', 'exang',\n",
              "                                  'thal', 'ca']),\n",
              "                                ('standard-scaler', StandardScaler(),\n",
              "                                 ['age', 'trestbps', 'chol', 'thalach',\n",
              "                                  'oldpeak'])])</pre></div></div></div><div class=\"sk-parallel\"><div class=\"sk-parallel-item\"><div class=\"sk-item\"><div class=\"sk-label-container\"><div class=\"sk-label sk-toggleable\"><input class=\"sk-toggleable__control sk-hidden--visually\" id=\"2eb4db6e-f6ac-42f3-b102-6fd8efa05df4\" type=\"checkbox\" ><label class=\"sk-toggleable__label\" for=\"2eb4db6e-f6ac-42f3-b102-6fd8efa05df4\">one-hot-encoder</label><div class=\"sk-toggleable__content\"><pre>['sex', 'cp', 'fbs', 'restecg', 'exang', 'thal', 'ca']</pre></div></div></div><div class=\"sk-serial\"><div class=\"sk-item\"><div class=\"sk-estimator sk-toggleable\"><input class=\"sk-toggleable__control sk-hidden--visually\" id=\"c73da608-1534-4aa4-82a8-3b25e0135ff6\" type=\"checkbox\" ><label class=\"sk-toggleable__label\" for=\"c73da608-1534-4aa4-82a8-3b25e0135ff6\">OneHotEncoder</label><div class=\"sk-toggleable__content\"><pre>OneHotEncoder(handle_unknown='ignore')</pre></div></div></div></div></div></div><div class=\"sk-parallel-item\"><div class=\"sk-item\"><div class=\"sk-label-container\"><div class=\"sk-label sk-toggleable\"><input class=\"sk-toggleable__control sk-hidden--visually\" id=\"65344787-b92b-4144-b939-b8a145d93baa\" type=\"checkbox\" ><label class=\"sk-toggleable__label\" for=\"65344787-b92b-4144-b939-b8a145d93baa\">standard-scaler</label><div class=\"sk-toggleable__content\"><pre>['age', 'trestbps', 'chol', 'thalach', 'oldpeak']</pre></div></div></div><div class=\"sk-serial\"><div class=\"sk-item\"><div class=\"sk-estimator sk-toggleable\"><input class=\"sk-toggleable__control sk-hidden--visually\" id=\"c1cc7d75-acc4-4901-802c-cc451860f9a5\" type=\"checkbox\" ><label class=\"sk-toggleable__label\" for=\"c1cc7d75-acc4-4901-802c-cc451860f9a5\">StandardScaler</label><div class=\"sk-toggleable__content\"><pre>StandardScaler()</pre></div></div></div></div></div></div></div></div><div class=\"sk-item\"><div class=\"sk-estimator sk-toggleable\"><input class=\"sk-toggleable__control sk-hidden--visually\" id=\"5294081c-fe22-40fb-8173-2b88c84c93a0\" type=\"checkbox\" ><label class=\"sk-toggleable__label\" for=\"5294081c-fe22-40fb-8173-2b88c84c93a0\">LogisticRegression</label><div class=\"sk-toggleable__content\"><pre>LogisticRegression()</pre></div></div></div></div></div></div></div>"
            ],
            "text/plain": [
              "Pipeline(steps=[('columntransformer',\n",
              "                 ColumnTransformer(transformers=[('one-hot-encoder',\n",
              "                                                  OneHotEncoder(handle_unknown='ignore'),\n",
              "                                                  ['sex', 'cp', 'fbs',\n",
              "                                                   'restecg', 'exang', 'thal',\n",
              "                                                   'ca']),\n",
              "                                                 ('standard-scaler',\n",
              "                                                  StandardScaler(),\n",
              "                                                  ['age', 'trestbps', 'chol',\n",
              "                                                   'thalach', 'oldpeak'])])),\n",
              "                ('logisticregression', LogisticRegression())])"
            ]
          },
          "metadata": {
            "tags": []
          },
          "execution_count": 205
        }
      ]
    },
    {
      "cell_type": "code",
      "metadata": {
        "colab": {
          "base_uri": "https://localhost:8080/"
        },
        "id": "x4Rd4aA34OxB",
        "outputId": "dd1a63ac-2601-4cba-c9b2-a51cf1a63da2"
      },
      "source": [
        "logisticRegr.get_params"
      ],
      "execution_count": null,
      "outputs": [
        {
          "output_type": "execute_result",
          "data": {
            "text/plain": [
              "<bound method Pipeline.get_params of Pipeline(steps=[('columntransformer',\n",
              "                 ColumnTransformer(transformers=[('one-hot-encoder',\n",
              "                                                  OneHotEncoder(handle_unknown='ignore'),\n",
              "                                                  ['sex', 'cp', 'fbs',\n",
              "                                                   'restecg', 'exang', 'thal',\n",
              "                                                   'ca']),\n",
              "                                                 ('standard-scaler',\n",
              "                                                  StandardScaler(),\n",
              "                                                  ['age', 'trestbps', 'chol',\n",
              "                                                   'thalach', 'oldpeak'])])),\n",
              "                ('logisticregression', LogisticRegression())])>"
            ]
          },
          "metadata": {
            "tags": []
          },
          "execution_count": 162
        }
      ]
    },
    {
      "cell_type": "markdown",
      "metadata": {
        "id": "9RRgU8mXmpWO"
      },
      "source": [
        "**Setting up Grid Search for hyper paramter tuning**"
      ]
    },
    {
      "cell_type": "code",
      "metadata": {
        "colab": {
          "base_uri": "https://localhost:8080/",
          "height": 165
        },
        "id": "wHye3raQnHMl",
        "outputId": "e2f549cd-2009-4f1e-bce1-d02716bc6dbe"
      },
      "source": [
        "grid_values_lr = {'logisticregression__C':[0.001,.009,0.01,.09,1,5,10,25]}\n",
        "logisticRegr_gs = GridSearchCV(logisticRegr, param_grid=grid_values_lr,n_jobs=4, cv=5)\n",
        "logisticRegr_gs"
      ],
      "execution_count": null,
      "outputs": [
        {
          "output_type": "execute_result",
          "data": {
            "text/html": [
              "<style>div.sk-top-container {color: black;background-color: white;}div.sk-toggleable {background-color: white;}label.sk-toggleable__label {cursor: pointer;display: block;width: 100%;margin-bottom: 0;padding: 0.2em 0.3em;box-sizing: border-box;text-align: center;}div.sk-toggleable__content {max-height: 0;max-width: 0;overflow: hidden;text-align: left;background-color: #f0f8ff;}div.sk-toggleable__content pre {margin: 0.2em;color: black;border-radius: 0.25em;background-color: #f0f8ff;}input.sk-toggleable__control:checked~div.sk-toggleable__content {max-height: 200px;max-width: 100%;overflow: auto;}div.sk-estimator input.sk-toggleable__control:checked~label.sk-toggleable__label {background-color: #d4ebff;}div.sk-label input.sk-toggleable__control:checked~label.sk-toggleable__label {background-color: #d4ebff;}input.sk-hidden--visually {border: 0;clip: rect(1px 1px 1px 1px);clip: rect(1px, 1px, 1px, 1px);height: 1px;margin: -1px;overflow: hidden;padding: 0;position: absolute;width: 1px;}div.sk-estimator {font-family: monospace;background-color: #f0f8ff;margin: 0.25em 0.25em;border: 1px dotted black;border-radius: 0.25em;box-sizing: border-box;}div.sk-estimator:hover {background-color: #d4ebff;}div.sk-parallel-item::after {content: \"\";width: 100%;border-bottom: 1px solid gray;flex-grow: 1;}div.sk-label:hover label.sk-toggleable__label {background-color: #d4ebff;}div.sk-serial::before {content: \"\";position: absolute;border-left: 1px solid gray;box-sizing: border-box;top: 2em;bottom: 0;left: 50%;}div.sk-serial {display: flex;flex-direction: column;align-items: center;background-color: white;}div.sk-item {z-index: 1;}div.sk-parallel {display: flex;align-items: stretch;justify-content: center;background-color: white;}div.sk-parallel-item {display: flex;flex-direction: column;position: relative;background-color: white;}div.sk-parallel-item:first-child::after {align-self: flex-end;width: 50%;}div.sk-parallel-item:last-child::after {align-self: flex-start;width: 50%;}div.sk-parallel-item:only-child::after {width: 0;}div.sk-dashed-wrapped {border: 1px dashed gray;margin: 0.2em;box-sizing: border-box;padding-bottom: 0.1em;background-color: white;position: relative;}div.sk-label label {font-family: monospace;font-weight: bold;background-color: white;display: inline-block;line-height: 1.2em;}div.sk-label-container {position: relative;z-index: 2;text-align: center;}div.sk-container {display: inline-block;position: relative;}</style><div class=\"sk-top-container\"><div class=\"sk-container\"><div class=\"sk-item sk-dashed-wrapped\"><div class=\"sk-label-container\"><div class=\"sk-label sk-toggleable\"><input class=\"sk-toggleable__control sk-hidden--visually\" id=\"a2321f99-e170-47a4-9ce3-da9f6ed1d2c7\" type=\"checkbox\" ><label class=\"sk-toggleable__label\" for=\"a2321f99-e170-47a4-9ce3-da9f6ed1d2c7\">GridSearchCV</label><div class=\"sk-toggleable__content\"><pre>GridSearchCV(cv=5,\n",
              "             estimator=Pipeline(steps=[('columntransformer',\n",
              "                                        ColumnTransformer(transformers=[('one-hot-encoder',\n",
              "                                                                         OneHotEncoder(handle_unknown='ignore'),\n",
              "                                                                         ['sex',\n",
              "                                                                          'cp',\n",
              "                                                                          'fbs',\n",
              "                                                                          'restecg',\n",
              "                                                                          'exang',\n",
              "                                                                          'thal',\n",
              "                                                                          'ca']),\n",
              "                                                                        ('standard-scaler',\n",
              "                                                                         StandardScaler(),\n",
              "                                                                         ['age',\n",
              "                                                                          'trestbps',\n",
              "                                                                          'chol',\n",
              "                                                                          'thalach',\n",
              "                                                                          'oldpeak'])])),\n",
              "                                       ('logisticregression',\n",
              "                                        LogisticRegression())]),\n",
              "             n_jobs=4,\n",
              "             param_grid={'logisticregression__C': [0.001, 0.009, 0.01, 0.09, 1,\n",
              "                                                   5, 10, 25]})</pre></div></div></div><div class=\"sk-parallel\"><div class=\"sk-parallel-item\"><div class=\"sk-item\"><div class=\"sk-serial\"><div class=\"sk-item\"><div class=\"sk-serial\"><div class=\"sk-item sk-dashed-wrapped\"><div class=\"sk-label-container\"><div class=\"sk-label sk-toggleable\"><input class=\"sk-toggleable__control sk-hidden--visually\" id=\"4ab8133d-4483-42a6-9eeb-ad9fc4174608\" type=\"checkbox\" ><label class=\"sk-toggleable__label\" for=\"4ab8133d-4483-42a6-9eeb-ad9fc4174608\">columntransformer: ColumnTransformer</label><div class=\"sk-toggleable__content\"><pre>ColumnTransformer(transformers=[('one-hot-encoder',\n",
              "                                 OneHotEncoder(handle_unknown='ignore'),\n",
              "                                 ['sex', 'cp', 'fbs', 'restecg', 'exang',\n",
              "                                  'thal', 'ca']),\n",
              "                                ('standard-scaler', StandardScaler(),\n",
              "                                 ['age', 'trestbps', 'chol', 'thalach',\n",
              "                                  'oldpeak'])])</pre></div></div></div><div class=\"sk-parallel\"><div class=\"sk-parallel-item\"><div class=\"sk-item\"><div class=\"sk-label-container\"><div class=\"sk-label sk-toggleable\"><input class=\"sk-toggleable__control sk-hidden--visually\" id=\"87c1ed8f-c2b3-427b-8dd1-94df865c445b\" type=\"checkbox\" ><label class=\"sk-toggleable__label\" for=\"87c1ed8f-c2b3-427b-8dd1-94df865c445b\">one-hot-encoder</label><div class=\"sk-toggleable__content\"><pre>['sex', 'cp', 'fbs', 'restecg', 'exang', 'thal', 'ca']</pre></div></div></div><div class=\"sk-serial\"><div class=\"sk-item\"><div class=\"sk-estimator sk-toggleable\"><input class=\"sk-toggleable__control sk-hidden--visually\" id=\"89cfc7dd-7397-4906-bbb5-a173b0bd6395\" type=\"checkbox\" ><label class=\"sk-toggleable__label\" for=\"89cfc7dd-7397-4906-bbb5-a173b0bd6395\">OneHotEncoder</label><div class=\"sk-toggleable__content\"><pre>OneHotEncoder(handle_unknown='ignore')</pre></div></div></div></div></div></div><div class=\"sk-parallel-item\"><div class=\"sk-item\"><div class=\"sk-label-container\"><div class=\"sk-label sk-toggleable\"><input class=\"sk-toggleable__control sk-hidden--visually\" id=\"4225d798-aa90-47a5-8c63-a68cc91bc9c3\" type=\"checkbox\" ><label class=\"sk-toggleable__label\" for=\"4225d798-aa90-47a5-8c63-a68cc91bc9c3\">standard-scaler</label><div class=\"sk-toggleable__content\"><pre>['age', 'trestbps', 'chol', 'thalach', 'oldpeak']</pre></div></div></div><div class=\"sk-serial\"><div class=\"sk-item\"><div class=\"sk-estimator sk-toggleable\"><input class=\"sk-toggleable__control sk-hidden--visually\" id=\"ae5d03e4-7c13-480d-8b3c-cee2f239b8d6\" type=\"checkbox\" ><label class=\"sk-toggleable__label\" for=\"ae5d03e4-7c13-480d-8b3c-cee2f239b8d6\">StandardScaler</label><div class=\"sk-toggleable__content\"><pre>StandardScaler()</pre></div></div></div></div></div></div></div></div><div class=\"sk-item\"><div class=\"sk-estimator sk-toggleable\"><input class=\"sk-toggleable__control sk-hidden--visually\" id=\"d6e06690-28d9-4c65-bd3c-528fd1735f97\" type=\"checkbox\" ><label class=\"sk-toggleable__label\" for=\"d6e06690-28d9-4c65-bd3c-528fd1735f97\">LogisticRegression</label><div class=\"sk-toggleable__content\"><pre>LogisticRegression()</pre></div></div></div></div></div></div></div></div></div></div></div></div>"
            ],
            "text/plain": [
              "GridSearchCV(cv=5,\n",
              "             estimator=Pipeline(steps=[('columntransformer',\n",
              "                                        ColumnTransformer(transformers=[('one-hot-encoder',\n",
              "                                                                         OneHotEncoder(handle_unknown='ignore'),\n",
              "                                                                         ['sex',\n",
              "                                                                          'cp',\n",
              "                                                                          'fbs',\n",
              "                                                                          'restecg',\n",
              "                                                                          'exang',\n",
              "                                                                          'thal',\n",
              "                                                                          'ca']),\n",
              "                                                                        ('standard-scaler',\n",
              "                                                                         StandardScaler(),\n",
              "                                                                         ['age',\n",
              "                                                                          'trestbps',\n",
              "                                                                          'chol',\n",
              "                                                                          'thalach',\n",
              "                                                                          'oldpeak'])])),\n",
              "                                       ('logisticregression',\n",
              "                                        LogisticRegression())]),\n",
              "             n_jobs=4,\n",
              "             param_grid={'logisticregression__C': [0.001, 0.009, 0.01, 0.09, 1,\n",
              "                                                   5, 10, 25]})"
            ]
          },
          "metadata": {
            "tags": []
          },
          "execution_count": 163
        }
      ]
    },
    {
      "cell_type": "code",
      "metadata": {
        "id": "1R6nwpjZ4Xwr"
      },
      "source": [
        "# logisticRegr_gs.get_params().keys()"
      ],
      "execution_count": null,
      "outputs": []
    },
    {
      "cell_type": "markdown",
      "metadata": {
        "id": "i1svGKP8Mkjj"
      },
      "source": [
        "**Training the model**"
      ]
    },
    {
      "cell_type": "code",
      "metadata": {
        "colab": {
          "base_uri": "https://localhost:8080/",
          "height": 165
        },
        "id": "ytizrchSMqto",
        "outputId": "c93efb07-8f52-47d7-bc3c-9b31240f8edb"
      },
      "source": [
        "logisticRegr_gs.fit(data_train,target_train)"
      ],
      "execution_count": null,
      "outputs": [
        {
          "output_type": "execute_result",
          "data": {
            "text/html": [
              "<style>div.sk-top-container {color: black;background-color: white;}div.sk-toggleable {background-color: white;}label.sk-toggleable__label {cursor: pointer;display: block;width: 100%;margin-bottom: 0;padding: 0.2em 0.3em;box-sizing: border-box;text-align: center;}div.sk-toggleable__content {max-height: 0;max-width: 0;overflow: hidden;text-align: left;background-color: #f0f8ff;}div.sk-toggleable__content pre {margin: 0.2em;color: black;border-radius: 0.25em;background-color: #f0f8ff;}input.sk-toggleable__control:checked~div.sk-toggleable__content {max-height: 200px;max-width: 100%;overflow: auto;}div.sk-estimator input.sk-toggleable__control:checked~label.sk-toggleable__label {background-color: #d4ebff;}div.sk-label input.sk-toggleable__control:checked~label.sk-toggleable__label {background-color: #d4ebff;}input.sk-hidden--visually {border: 0;clip: rect(1px 1px 1px 1px);clip: rect(1px, 1px, 1px, 1px);height: 1px;margin: -1px;overflow: hidden;padding: 0;position: absolute;width: 1px;}div.sk-estimator {font-family: monospace;background-color: #f0f8ff;margin: 0.25em 0.25em;border: 1px dotted black;border-radius: 0.25em;box-sizing: border-box;}div.sk-estimator:hover {background-color: #d4ebff;}div.sk-parallel-item::after {content: \"\";width: 100%;border-bottom: 1px solid gray;flex-grow: 1;}div.sk-label:hover label.sk-toggleable__label {background-color: #d4ebff;}div.sk-serial::before {content: \"\";position: absolute;border-left: 1px solid gray;box-sizing: border-box;top: 2em;bottom: 0;left: 50%;}div.sk-serial {display: flex;flex-direction: column;align-items: center;background-color: white;}div.sk-item {z-index: 1;}div.sk-parallel {display: flex;align-items: stretch;justify-content: center;background-color: white;}div.sk-parallel-item {display: flex;flex-direction: column;position: relative;background-color: white;}div.sk-parallel-item:first-child::after {align-self: flex-end;width: 50%;}div.sk-parallel-item:last-child::after {align-self: flex-start;width: 50%;}div.sk-parallel-item:only-child::after {width: 0;}div.sk-dashed-wrapped {border: 1px dashed gray;margin: 0.2em;box-sizing: border-box;padding-bottom: 0.1em;background-color: white;position: relative;}div.sk-label label {font-family: monospace;font-weight: bold;background-color: white;display: inline-block;line-height: 1.2em;}div.sk-label-container {position: relative;z-index: 2;text-align: center;}div.sk-container {display: inline-block;position: relative;}</style><div class=\"sk-top-container\"><div class=\"sk-container\"><div class=\"sk-item sk-dashed-wrapped\"><div class=\"sk-label-container\"><div class=\"sk-label sk-toggleable\"><input class=\"sk-toggleable__control sk-hidden--visually\" id=\"29118890-3121-44e3-a40f-59a095098884\" type=\"checkbox\" ><label class=\"sk-toggleable__label\" for=\"29118890-3121-44e3-a40f-59a095098884\">GridSearchCV</label><div class=\"sk-toggleable__content\"><pre>GridSearchCV(cv=5,\n",
              "             estimator=Pipeline(steps=[('columntransformer',\n",
              "                                        ColumnTransformer(transformers=[('one-hot-encoder',\n",
              "                                                                         OneHotEncoder(handle_unknown='ignore'),\n",
              "                                                                         ['sex',\n",
              "                                                                          'cp',\n",
              "                                                                          'fbs',\n",
              "                                                                          'restecg',\n",
              "                                                                          'exang',\n",
              "                                                                          'thal',\n",
              "                                                                          'ca']),\n",
              "                                                                        ('standard-scaler',\n",
              "                                                                         StandardScaler(),\n",
              "                                                                         ['age',\n",
              "                                                                          'trestbps',\n",
              "                                                                          'chol',\n",
              "                                                                          'thalach',\n",
              "                                                                          'oldpeak'])])),\n",
              "                                       ('logisticregression',\n",
              "                                        LogisticRegression())]),\n",
              "             n_jobs=4,\n",
              "             param_grid={'logisticregression__C': [0.001, 0.009, 0.01, 0.09, 1,\n",
              "                                                   5, 10, 25]})</pre></div></div></div><div class=\"sk-parallel\"><div class=\"sk-parallel-item\"><div class=\"sk-item\"><div class=\"sk-serial\"><div class=\"sk-item\"><div class=\"sk-serial\"><div class=\"sk-item sk-dashed-wrapped\"><div class=\"sk-label-container\"><div class=\"sk-label sk-toggleable\"><input class=\"sk-toggleable__control sk-hidden--visually\" id=\"6491d930-ebde-49d1-b019-4bf639003ed6\" type=\"checkbox\" ><label class=\"sk-toggleable__label\" for=\"6491d930-ebde-49d1-b019-4bf639003ed6\">columntransformer: ColumnTransformer</label><div class=\"sk-toggleable__content\"><pre>ColumnTransformer(transformers=[('one-hot-encoder',\n",
              "                                 OneHotEncoder(handle_unknown='ignore'),\n",
              "                                 ['sex', 'cp', 'fbs', 'restecg', 'exang',\n",
              "                                  'thal', 'ca']),\n",
              "                                ('standard-scaler', StandardScaler(),\n",
              "                                 ['age', 'trestbps', 'chol', 'thalach',\n",
              "                                  'oldpeak'])])</pre></div></div></div><div class=\"sk-parallel\"><div class=\"sk-parallel-item\"><div class=\"sk-item\"><div class=\"sk-label-container\"><div class=\"sk-label sk-toggleable\"><input class=\"sk-toggleable__control sk-hidden--visually\" id=\"7d263bd0-f6d8-43c7-aa47-600ab2c086d1\" type=\"checkbox\" ><label class=\"sk-toggleable__label\" for=\"7d263bd0-f6d8-43c7-aa47-600ab2c086d1\">one-hot-encoder</label><div class=\"sk-toggleable__content\"><pre>['sex', 'cp', 'fbs', 'restecg', 'exang', 'thal', 'ca']</pre></div></div></div><div class=\"sk-serial\"><div class=\"sk-item\"><div class=\"sk-estimator sk-toggleable\"><input class=\"sk-toggleable__control sk-hidden--visually\" id=\"f9d8bec6-0e75-45ba-a404-22778b8c2d30\" type=\"checkbox\" ><label class=\"sk-toggleable__label\" for=\"f9d8bec6-0e75-45ba-a404-22778b8c2d30\">OneHotEncoder</label><div class=\"sk-toggleable__content\"><pre>OneHotEncoder(handle_unknown='ignore')</pre></div></div></div></div></div></div><div class=\"sk-parallel-item\"><div class=\"sk-item\"><div class=\"sk-label-container\"><div class=\"sk-label sk-toggleable\"><input class=\"sk-toggleable__control sk-hidden--visually\" id=\"fe446541-42dc-4bcd-858e-74368899ae51\" type=\"checkbox\" ><label class=\"sk-toggleable__label\" for=\"fe446541-42dc-4bcd-858e-74368899ae51\">standard-scaler</label><div class=\"sk-toggleable__content\"><pre>['age', 'trestbps', 'chol', 'thalach', 'oldpeak']</pre></div></div></div><div class=\"sk-serial\"><div class=\"sk-item\"><div class=\"sk-estimator sk-toggleable\"><input class=\"sk-toggleable__control sk-hidden--visually\" id=\"838cef2b-70e2-4194-8558-c21e1798d18a\" type=\"checkbox\" ><label class=\"sk-toggleable__label\" for=\"838cef2b-70e2-4194-8558-c21e1798d18a\">StandardScaler</label><div class=\"sk-toggleable__content\"><pre>StandardScaler()</pre></div></div></div></div></div></div></div></div><div class=\"sk-item\"><div class=\"sk-estimator sk-toggleable\"><input class=\"sk-toggleable__control sk-hidden--visually\" id=\"2d0f5ce2-6a12-4363-b0c3-8f6bf8c6dd33\" type=\"checkbox\" ><label class=\"sk-toggleable__label\" for=\"2d0f5ce2-6a12-4363-b0c3-8f6bf8c6dd33\">LogisticRegression</label><div class=\"sk-toggleable__content\"><pre>LogisticRegression()</pre></div></div></div></div></div></div></div></div></div></div></div></div>"
            ],
            "text/plain": [
              "GridSearchCV(cv=5,\n",
              "             estimator=Pipeline(steps=[('columntransformer',\n",
              "                                        ColumnTransformer(transformers=[('one-hot-encoder',\n",
              "                                                                         OneHotEncoder(handle_unknown='ignore'),\n",
              "                                                                         ['sex',\n",
              "                                                                          'cp',\n",
              "                                                                          'fbs',\n",
              "                                                                          'restecg',\n",
              "                                                                          'exang',\n",
              "                                                                          'thal',\n",
              "                                                                          'ca']),\n",
              "                                                                        ('standard-scaler',\n",
              "                                                                         StandardScaler(),\n",
              "                                                                         ['age',\n",
              "                                                                          'trestbps',\n",
              "                                                                          'chol',\n",
              "                                                                          'thalach',\n",
              "                                                                          'oldpeak'])])),\n",
              "                                       ('logisticregression',\n",
              "                                        LogisticRegression())]),\n",
              "             n_jobs=4,\n",
              "             param_grid={'logisticregression__C': [0.001, 0.009, 0.01, 0.09, 1,\n",
              "                                                   5, 10, 25]})"
            ]
          },
          "metadata": {
            "tags": []
          },
          "execution_count": 165
        }
      ]
    },
    {
      "cell_type": "markdown",
      "metadata": {
        "id": "hLpMmuqftii9"
      },
      "source": [
        "**Getting the best value of the hyperparameter**"
      ]
    },
    {
      "cell_type": "code",
      "metadata": {
        "colab": {
          "base_uri": "https://localhost:8080/"
        },
        "id": "ShKV_HrBq53T",
        "outputId": "b9ee6892-a331-4d60-82c2-128043090568"
      },
      "source": [
        "logisticRegr_gs.best_params_"
      ],
      "execution_count": null,
      "outputs": [
        {
          "output_type": "execute_result",
          "data": {
            "text/plain": [
              "{'logisticregression__C': 0.09}"
            ]
          },
          "metadata": {
            "tags": []
          },
          "execution_count": 166
        }
      ]
    },
    {
      "cell_type": "markdown",
      "metadata": {
        "id": "hl85bD_lE4cz"
      },
      "source": [
        "**Plotting Confusion Matrix**"
      ]
    },
    {
      "cell_type": "code",
      "metadata": {
        "colab": {
          "base_uri": "https://localhost:8080/",
          "height": 297
        },
        "id": "9zwxuY_T81Il",
        "outputId": "ed0d9b9c-edf4-4b06-8064-6cc4a280af9b"
      },
      "source": [
        "plot_confusion_matrix(logisticRegr_gs, data_test, target_test) "
      ],
      "execution_count": null,
      "outputs": [
        {
          "output_type": "execute_result",
          "data": {
            "text/plain": [
              "<sklearn.metrics._plot.confusion_matrix.ConfusionMatrixDisplay at 0x7ffa84fc1910>"
            ]
          },
          "metadata": {
            "tags": []
          },
          "execution_count": 167
        },
        {
          "output_type": "display_data",
          "data": {
            "image/png": "[encoded data removed]",
            "text/plain": [
              "<Figure size 432x288 with 2 Axes>"
            ]
          },
          "metadata": {
            "tags": [],
            "needs_background": "light"
          }
        }
      ]
    },
    {
      "cell_type": "markdown",
      "metadata": {
        "id": "HPkQc8HKNZe7"
      },
      "source": [
        "**Running Cross Validation**"
      ]
    },
    {
      "cell_type": "code",
      "metadata": {
        "id": "MMgJLys4o00Z"
      },
      "source": [
        "cv_result_lr = cross_validate(logisticRegr_gs.best_estimator_, data, target, cv=5)"
      ],
      "execution_count": null,
      "outputs": []
    },
    {
      "cell_type": "markdown",
      "metadata": {
        "id": "LFSqXvGONmaR"
      },
      "source": [
        "**Printing the Score**"
      ]
    },
    {
      "cell_type": "code",
      "metadata": {
        "colab": {
          "base_uri": "https://localhost:8080/"
        },
        "id": "9_N9vEdkR21H",
        "outputId": "c0f04147-4560-49a8-eed3-73b995e04e33"
      },
      "source": [
        "scores = cv_result_lr[\"test_score\"]\n",
        "print(f\"The mean cross-validation accuracy is: \"\n",
        "      f\"{scores.mean():.3f} +/- {scores.std():.3f}\")"
      ],
      "execution_count": null,
      "outputs": [
        {
          "output_type": "stream",
          "text": [
            "The mean cross-validation accuracy is: 0.838 +/- 0.043\n"
          ],
          "name": "stdout"
        }
      ]
    },
    {
      "cell_type": "markdown",
      "metadata": {
        "id": "-nqXY4TFRoLQ"
      },
      "source": [
        "# Gradient Boosting Classifier"
      ]
    },
    {
      "cell_type": "markdown",
      "metadata": {
        "id": "h6XTFPQOXnCW"
      },
      "source": [
        "**Making the pipeline**"
      ]
    },
    {
      "cell_type": "code",
      "metadata": {
        "id": "4s-C2M5ISFWW"
      },
      "source": [
        "Gradientbst = make_pipeline(preprocessor, GradientBoostingClassifier())"
      ],
      "execution_count": null,
      "outputs": []
    },
    {
      "cell_type": "code",
      "metadata": {
        "colab": {
          "base_uri": "https://localhost:8080/"
        },
        "id": "jBdp9oaF4JOA",
        "outputId": "9aaec77d-47eb-4d86-a3fc-4e9d89c58f08"
      },
      "source": [
        "Gradientbst.get_params"
      ],
      "execution_count": null,
      "outputs": [
        {
          "output_type": "execute_result",
          "data": {
            "text/plain": [
              "<bound method Pipeline.get_params of Pipeline(steps=[('columntransformer',\n",
              "                 ColumnTransformer(transformers=[('one-hot-encoder',\n",
              "                                                  OneHotEncoder(handle_unknown='ignore'),\n",
              "                                                  ['sex', 'cp', 'fbs',\n",
              "                                                   'restecg', 'exang', 'thal',\n",
              "                                                   'ca']),\n",
              "                                                 ('standard-scaler',\n",
              "                                                  StandardScaler(),\n",
              "                                                  ['age', 'trestbps', 'chol',\n",
              "                                                   'thalach', 'oldpeak'])])),\n",
              "                ('gradientboostingclassifier', GradientBoostingClassifier())])>"
            ]
          },
          "metadata": {
            "tags": []
          },
          "execution_count": 171
        }
      ]
    },
    {
      "cell_type": "markdown",
      "metadata": {
        "id": "czkQHiFixsDD"
      },
      "source": [
        "**Setting up Grid Search for hyper paramter tuning**"
      ]
    },
    {
      "cell_type": "code",
      "metadata": {
        "colab": {
          "base_uri": "https://localhost:8080/",
          "height": 165
        },
        "id": "mH_E4XDLxtUz",
        "outputId": "f008769a-faf7-481f-f26f-ad98f9a5474a"
      },
      "source": [
        "grid_values_gb = {'gradientboostingclassifier__learning_rate':[0.001,.009,0.01,.09,1,5,10,25]}\n",
        "Gradientbst_gs = GridSearchCV(Gradientbst, param_grid=grid_values_gb,n_jobs=4, cv=10)\n",
        "Gradientbst_gs"
      ],
      "execution_count": null,
      "outputs": [
        {
          "output_type": "execute_result",
          "data": {
            "text/html": [
              "<style>div.sk-top-container {color: black;background-color: white;}div.sk-toggleable {background-color: white;}label.sk-toggleable__label {cursor: pointer;display: block;width: 100%;margin-bottom: 0;padding: 0.2em 0.3em;box-sizing: border-box;text-align: center;}div.sk-toggleable__content {max-height: 0;max-width: 0;overflow: hidden;text-align: left;background-color: #f0f8ff;}div.sk-toggleable__content pre {margin: 0.2em;color: black;border-radius: 0.25em;background-color: #f0f8ff;}input.sk-toggleable__control:checked~div.sk-toggleable__content {max-height: 200px;max-width: 100%;overflow: auto;}div.sk-estimator input.sk-toggleable__control:checked~label.sk-toggleable__label {background-color: #d4ebff;}div.sk-label input.sk-toggleable__control:checked~label.sk-toggleable__label {background-color: #d4ebff;}input.sk-hidden--visually {border: 0;clip: rect(1px 1px 1px 1px);clip: rect(1px, 1px, 1px, 1px);height: 1px;margin: -1px;overflow: hidden;padding: 0;position: absolute;width: 1px;}div.sk-estimator {font-family: monospace;background-color: #f0f8ff;margin: 0.25em 0.25em;border: 1px dotted black;border-radius: 0.25em;box-sizing: border-box;}div.sk-estimator:hover {background-color: #d4ebff;}div.sk-parallel-item::after {content: \"\";width: 100%;border-bottom: 1px solid gray;flex-grow: 1;}div.sk-label:hover label.sk-toggleable__label {background-color: #d4ebff;}div.sk-serial::before {content: \"\";position: absolute;border-left: 1px solid gray;box-sizing: border-box;top: 2em;bottom: 0;left: 50%;}div.sk-serial {display: flex;flex-direction: column;align-items: center;background-color: white;}div.sk-item {z-index: 1;}div.sk-parallel {display: flex;align-items: stretch;justify-content: center;background-color: white;}div.sk-parallel-item {display: flex;flex-direction: column;position: relative;background-color: white;}div.sk-parallel-item:first-child::after {align-self: flex-end;width: 50%;}div.sk-parallel-item:last-child::after {align-self: flex-start;width: 50%;}div.sk-parallel-item:only-child::after {width: 0;}div.sk-dashed-wrapped {border: 1px dashed gray;margin: 0.2em;box-sizing: border-box;padding-bottom: 0.1em;background-color: white;position: relative;}div.sk-label label {font-family: monospace;font-weight: bold;background-color: white;display: inline-block;line-height: 1.2em;}div.sk-label-container {position: relative;z-index: 2;text-align: center;}div.sk-container {display: inline-block;position: relative;}</style><div class=\"sk-top-container\"><div class=\"sk-container\"><div class=\"sk-item sk-dashed-wrapped\"><div class=\"sk-label-container\"><div class=\"sk-label sk-toggleable\"><input class=\"sk-toggleable__control sk-hidden--visually\" id=\"8b55b698-79e8-497c-a87b-4999f5449b97\" type=\"checkbox\" ><label class=\"sk-toggleable__label\" for=\"8b55b698-79e8-497c-a87b-4999f5449b97\">GridSearchCV</label><div class=\"sk-toggleable__content\"><pre>GridSearchCV(cv=10,\n",
              "             estimator=Pipeline(steps=[('columntransformer',\n",
              "                                        ColumnTransformer(transformers=[('one-hot-encoder',\n",
              "                                                                         OneHotEncoder(handle_unknown='ignore'),\n",
              "                                                                         ['sex',\n",
              "                                                                          'cp',\n",
              "                                                                          'fbs',\n",
              "                                                                          'restecg',\n",
              "                                                                          'exang',\n",
              "                                                                          'thal',\n",
              "                                                                          'ca']),\n",
              "                                                                        ('standard-scaler',\n",
              "                                                                         StandardScaler(),\n",
              "                                                                         ['age',\n",
              "                                                                          'trestbps',\n",
              "                                                                          'chol',\n",
              "                                                                          'thalach',\n",
              "                                                                          'oldpeak'])])),\n",
              "                                       ('gradientboostingclassifier',\n",
              "                                        GradientBoostingClassifier())]),\n",
              "             n_jobs=4,\n",
              "             param_grid={'gradientboostingclassifier__learning_rate': [0.001,\n",
              "                                                                       0.009,\n",
              "                                                                       0.01,\n",
              "                                                                       0.09, 1,\n",
              "                                                                       5, 10,\n",
              "                                                                       25]})</pre></div></div></div><div class=\"sk-parallel\"><div class=\"sk-parallel-item\"><div class=\"sk-item\"><div class=\"sk-serial\"><div class=\"sk-item\"><div class=\"sk-serial\"><div class=\"sk-item sk-dashed-wrapped\"><div class=\"sk-label-container\"><div class=\"sk-label sk-toggleable\"><input class=\"sk-toggleable__control sk-hidden--visually\" id=\"66770b7d-a3d2-4f2f-adb4-5a4b7cf4a160\" type=\"checkbox\" ><label class=\"sk-toggleable__label\" for=\"66770b7d-a3d2-4f2f-adb4-5a4b7cf4a160\">columntransformer: ColumnTransformer</label><div class=\"sk-toggleable__content\"><pre>ColumnTransformer(transformers=[('one-hot-encoder',\n",
              "                                 OneHotEncoder(handle_unknown='ignore'),\n",
              "                                 ['sex', 'cp', 'fbs', 'restecg', 'exang',\n",
              "                                  'thal', 'ca']),\n",
              "                                ('standard-scaler', StandardScaler(),\n",
              "                                 ['age', 'trestbps', 'chol', 'thalach',\n",
              "                                  'oldpeak'])])</pre></div></div></div><div class=\"sk-parallel\"><div class=\"sk-parallel-item\"><div class=\"sk-item\"><div class=\"sk-label-container\"><div class=\"sk-label sk-toggleable\"><input class=\"sk-toggleable__control sk-hidden--visually\" id=\"9a2953f4-c714-4aec-b09c-0a9fa56789f7\" type=\"checkbox\" ><label class=\"sk-toggleable__label\" for=\"9a2953f4-c714-4aec-b09c-0a9fa56789f7\">one-hot-encoder</label><div class=\"sk-toggleable__content\"><pre>['sex', 'cp', 'fbs', 'restecg', 'exang', 'thal', 'ca']</pre></div></div></div><div class=\"sk-serial\"><div class=\"sk-item\"><div class=\"sk-estimator sk-toggleable\"><input class=\"sk-toggleable__control sk-hidden--visually\" id=\"91d2275e-bf7e-428f-a9e0-3c30e140bb8e\" type=\"checkbox\" ><label class=\"sk-toggleable__label\" for=\"91d2275e-bf7e-428f-a9e0-3c30e140bb8e\">OneHotEncoder</label><div class=\"sk-toggleable__content\"><pre>OneHotEncoder(handle_unknown='ignore')</pre></div></div></div></div></div></div><div class=\"sk-parallel-item\"><div class=\"sk-item\"><div class=\"sk-label-container\"><div class=\"sk-label sk-toggleable\"><input class=\"sk-toggleable__control sk-hidden--visually\" id=\"b492c9a4-51cc-43d4-9ef1-1f302682cb70\" type=\"checkbox\" ><label class=\"sk-toggleable__label\" for=\"b492c9a4-51cc-43d4-9ef1-1f302682cb70\">standard-scaler</label><div class=\"sk-toggleable__content\"><pre>['age', 'trestbps', 'chol', 'thalach', 'oldpeak']</pre></div></div></div><div class=\"sk-serial\"><div class=\"sk-item\"><div class=\"sk-estimator sk-toggleable\"><input class=\"sk-toggleable__control sk-hidden--visually\" id=\"4e1860a3-49c0-4adf-9bca-f7db6eabc04c\" type=\"checkbox\" ><label class=\"sk-toggleable__label\" for=\"4e1860a3-49c0-4adf-9bca-f7db6eabc04c\">StandardScaler</label><div class=\"sk-toggleable__content\"><pre>StandardScaler()</pre></div></div></div></div></div></div></div></div><div class=\"sk-item\"><div class=\"sk-estimator sk-toggleable\"><input class=\"sk-toggleable__control sk-hidden--visually\" id=\"25f4d317-d88e-4136-aaef-1c9af0c67807\" type=\"checkbox\" ><label class=\"sk-toggleable__label\" for=\"25f4d317-d88e-4136-aaef-1c9af0c67807\">GradientBoostingClassifier</label><div class=\"sk-toggleable__content\"><pre>GradientBoostingClassifier()</pre></div></div></div></div></div></div></div></div></div></div></div></div>"
            ],
            "text/plain": [
              "GridSearchCV(cv=10,\n",
              "             estimator=Pipeline(steps=[('columntransformer',\n",
              "                                        ColumnTransformer(transformers=[('one-hot-encoder',\n",
              "                                                                         OneHotEncoder(handle_unknown='ignore'),\n",
              "                                                                         ['sex',\n",
              "                                                                          'cp',\n",
              "                                                                          'fbs',\n",
              "                                                                          'restecg',\n",
              "                                                                          'exang',\n",
              "                                                                          'thal',\n",
              "                                                                          'ca']),\n",
              "                                                                        ('standard-scaler',\n",
              "                                                                         StandardScaler(),\n",
              "                                                                         ['age',\n",
              "                                                                          'trestbps',\n",
              "                                                                          'chol',\n",
              "                                                                          'thalach',\n",
              "                                                                          'oldpeak'])])),\n",
              "                                       ('gradientboostingclassifier',\n",
              "                                        GradientBoostingClassifier())]),\n",
              "             n_jobs=4,\n",
              "             param_grid={'gradientboostingclassifier__learning_rate': [0.001,\n",
              "                                                                       0.009,\n",
              "                                                                       0.01,\n",
              "                                                                       0.09, 1,\n",
              "                                                                       5, 10,\n",
              "                                                                       25]})"
            ]
          },
          "metadata": {
            "tags": []
          },
          "execution_count": 172
        }
      ]
    },
    {
      "cell_type": "markdown",
      "metadata": {
        "id": "RhkjD7mCZ1i_"
      },
      "source": [
        "**Training the model**"
      ]
    },
    {
      "cell_type": "code",
      "metadata": {
        "colab": {
          "base_uri": "https://localhost:8080/",
          "height": 165
        },
        "id": "luCb88EaYwL9",
        "outputId": "ae3458ce-fa0e-4847-de79-412ccb8726c7"
      },
      "source": [
        "Gradientbst_gs.fit(data_train,target_train)"
      ],
      "execution_count": null,
      "outputs": [
        {
          "output_type": "execute_result",
          "data": {
            "text/html": [
              "<style>div.sk-top-container {color: black;background-color: white;}div.sk-toggleable {background-color: white;}label.sk-toggleable__label {cursor: pointer;display: block;width: 100%;margin-bottom: 0;padding: 0.2em 0.3em;box-sizing: border-box;text-align: center;}div.sk-toggleable__content {max-height: 0;max-width: 0;overflow: hidden;text-align: left;background-color: #f0f8ff;}div.sk-toggleable__content pre {margin: 0.2em;color: black;border-radius: 0.25em;background-color: #f0f8ff;}input.sk-toggleable__control:checked~div.sk-toggleable__content {max-height: 200px;max-width: 100%;overflow: auto;}div.sk-estimator input.sk-toggleable__control:checked~label.sk-toggleable__label {background-color: #d4ebff;}div.sk-label input.sk-toggleable__control:checked~label.sk-toggleable__label {background-color: #d4ebff;}input.sk-hidden--visually {border: 0;clip: rect(1px 1px 1px 1px);clip: rect(1px, 1px, 1px, 1px);height: 1px;margin: -1px;overflow: hidden;padding: 0;position: absolute;width: 1px;}div.sk-estimator {font-family: monospace;background-color: #f0f8ff;margin: 0.25em 0.25em;border: 1px dotted black;border-radius: 0.25em;box-sizing: border-box;}div.sk-estimator:hover {background-color: #d4ebff;}div.sk-parallel-item::after {content: \"\";width: 100%;border-bottom: 1px solid gray;flex-grow: 1;}div.sk-label:hover label.sk-toggleable__label {background-color: #d4ebff;}div.sk-serial::before {content: \"\";position: absolute;border-left: 1px solid gray;box-sizing: border-box;top: 2em;bottom: 0;left: 50%;}div.sk-serial {display: flex;flex-direction: column;align-items: center;background-color: white;}div.sk-item {z-index: 1;}div.sk-parallel {display: flex;align-items: stretch;justify-content: center;background-color: white;}div.sk-parallel-item {display: flex;flex-direction: column;position: relative;background-color: white;}div.sk-parallel-item:first-child::after {align-self: flex-end;width: 50%;}div.sk-parallel-item:last-child::after {align-self: flex-start;width: 50%;}div.sk-parallel-item:only-child::after {width: 0;}div.sk-dashed-wrapped {border: 1px dashed gray;margin: 0.2em;box-sizing: border-box;padding-bottom: 0.1em;background-color: white;position: relative;}div.sk-label label {font-family: monospace;font-weight: bold;background-color: white;display: inline-block;line-height: 1.2em;}div.sk-label-container {position: relative;z-index: 2;text-align: center;}div.sk-container {display: inline-block;position: relative;}</style><div class=\"sk-top-container\"><div class=\"sk-container\"><div class=\"sk-item sk-dashed-wrapped\"><div class=\"sk-label-container\"><div class=\"sk-label sk-toggleable\"><input class=\"sk-toggleable__control sk-hidden--visually\" id=\"2634d7e8-c619-4117-ab7d-88a03152b9dc\" type=\"checkbox\" ><label class=\"sk-toggleable__label\" for=\"2634d7e8-c619-4117-ab7d-88a03152b9dc\">GridSearchCV</label><div class=\"sk-toggleable__content\"><pre>GridSearchCV(cv=10,\n",
              "             estimator=Pipeline(steps=[('columntransformer',\n",
              "                                        ColumnTransformer(transformers=[('one-hot-encoder',\n",
              "                                                                         OneHotEncoder(handle_unknown='ignore'),\n",
              "                                                                         ['sex',\n",
              "                                                                          'cp',\n",
              "                                                                          'fbs',\n",
              "                                                                          'restecg',\n",
              "                                                                          'exang',\n",
              "                                                                          'thal',\n",
              "                                                                          'ca']),\n",
              "                                                                        ('standard-scaler',\n",
              "                                                                         StandardScaler(),\n",
              "                                                                         ['age',\n",
              "                                                                          'trestbps',\n",
              "                                                                          'chol',\n",
              "                                                                          'thalach',\n",
              "                                                                          'oldpeak'])])),\n",
              "                                       ('gradientboostingclassifier',\n",
              "                                        GradientBoostingClassifier())]),\n",
              "             n_jobs=4,\n",
              "             param_grid={'gradientboostingclassifier__learning_rate': [0.001,\n",
              "                                                                       0.009,\n",
              "                                                                       0.01,\n",
              "                                                                       0.09, 1,\n",
              "                                                                       5, 10,\n",
              "                                                                       25]})</pre></div></div></div><div class=\"sk-parallel\"><div class=\"sk-parallel-item\"><div class=\"sk-item\"><div class=\"sk-serial\"><div class=\"sk-item\"><div class=\"sk-serial\"><div class=\"sk-item sk-dashed-wrapped\"><div class=\"sk-label-container\"><div class=\"sk-label sk-toggleable\"><input class=\"sk-toggleable__control sk-hidden--visually\" id=\"bb2b8ab1-f7d3-4e85-867d-5c18f6163d36\" type=\"checkbox\" ><label class=\"sk-toggleable__label\" for=\"bb2b8ab1-f7d3-4e85-867d-5c18f6163d36\">columntransformer: ColumnTransformer</label><div class=\"sk-toggleable__content\"><pre>ColumnTransformer(transformers=[('one-hot-encoder',\n",
              "                                 OneHotEncoder(handle_unknown='ignore'),\n",
              "                                 ['sex', 'cp', 'fbs', 'restecg', 'exang',\n",
              "                                  'thal', 'ca']),\n",
              "                                ('standard-scaler', StandardScaler(),\n",
              "                                 ['age', 'trestbps', 'chol', 'thalach',\n",
              "                                  'oldpeak'])])</pre></div></div></div><div class=\"sk-parallel\"><div class=\"sk-parallel-item\"><div class=\"sk-item\"><div class=\"sk-label-container\"><div class=\"sk-label sk-toggleable\"><input class=\"sk-toggleable__control sk-hidden--visually\" id=\"02fbce74-3741-48e5-a9d0-156f69f214a2\" type=\"checkbox\" ><label class=\"sk-toggleable__label\" for=\"02fbce74-3741-48e5-a9d0-156f69f214a2\">one-hot-encoder</label><div class=\"sk-toggleable__content\"><pre>['sex', 'cp', 'fbs', 'restecg', 'exang', 'thal', 'ca']</pre></div></div></div><div class=\"sk-serial\"><div class=\"sk-item\"><div class=\"sk-estimator sk-toggleable\"><input class=\"sk-toggleable__control sk-hidden--visually\" id=\"d4b9dfdb-34a0-4e36-ba90-77d01b7f8a7b\" type=\"checkbox\" ><label class=\"sk-toggleable__label\" for=\"d4b9dfdb-34a0-4e36-ba90-77d01b7f8a7b\">OneHotEncoder</label><div class=\"sk-toggleable__content\"><pre>OneHotEncoder(handle_unknown='ignore')</pre></div></div></div></div></div></div><div class=\"sk-parallel-item\"><div class=\"sk-item\"><div class=\"sk-label-container\"><div class=\"sk-label sk-toggleable\"><input class=\"sk-toggleable__control sk-hidden--visually\" id=\"8c14e615-5571-4f80-8729-2f738738a3af\" type=\"checkbox\" ><label class=\"sk-toggleable__label\" for=\"8c14e615-5571-4f80-8729-2f738738a3af\">standard-scaler</label><div class=\"sk-toggleable__content\"><pre>['age', 'trestbps', 'chol', 'thalach', 'oldpeak']</pre></div></div></div><div class=\"sk-serial\"><div class=\"sk-item\"><div class=\"sk-estimator sk-toggleable\"><input class=\"sk-toggleable__control sk-hidden--visually\" id=\"2e41c3c7-a922-4be5-a6ae-bff76a99da08\" type=\"checkbox\" ><label class=\"sk-toggleable__label\" for=\"2e41c3c7-a922-4be5-a6ae-bff76a99da08\">StandardScaler</label><div class=\"sk-toggleable__content\"><pre>StandardScaler()</pre></div></div></div></div></div></div></div></div><div class=\"sk-item\"><div class=\"sk-estimator sk-toggleable\"><input class=\"sk-toggleable__control sk-hidden--visually\" id=\"bcc36468-14f1-403d-ab7e-1dc1e21a4f05\" type=\"checkbox\" ><label class=\"sk-toggleable__label\" for=\"bcc36468-14f1-403d-ab7e-1dc1e21a4f05\">GradientBoostingClassifier</label><div class=\"sk-toggleable__content\"><pre>GradientBoostingClassifier()</pre></div></div></div></div></div></div></div></div></div></div></div></div>"
            ],
            "text/plain": [
              "GridSearchCV(cv=10,\n",
              "             estimator=Pipeline(steps=[('columntransformer',\n",
              "                                        ColumnTransformer(transformers=[('one-hot-encoder',\n",
              "                                                                         OneHotEncoder(handle_unknown='ignore'),\n",
              "                                                                         ['sex',\n",
              "                                                                          'cp',\n",
              "                                                                          'fbs',\n",
              "                                                                          'restecg',\n",
              "                                                                          'exang',\n",
              "                                                                          'thal',\n",
              "                                                                          'ca']),\n",
              "                                                                        ('standard-scaler',\n",
              "                                                                         StandardScaler(),\n",
              "                                                                         ['age',\n",
              "                                                                          'trestbps',\n",
              "                                                                          'chol',\n",
              "                                                                          'thalach',\n",
              "                                                                          'oldpeak'])])),\n",
              "                                       ('gradientboostingclassifier',\n",
              "                                        GradientBoostingClassifier())]),\n",
              "             n_jobs=4,\n",
              "             param_grid={'gradientboostingclassifier__learning_rate': [0.001,\n",
              "                                                                       0.009,\n",
              "                                                                       0.01,\n",
              "                                                                       0.09, 1,\n",
              "                                                                       5, 10,\n",
              "                                                                       25]})"
            ]
          },
          "metadata": {
            "tags": []
          },
          "execution_count": 173
        }
      ]
    },
    {
      "cell_type": "markdown",
      "metadata": {
        "id": "hHLy_0D4F0Wl"
      },
      "source": [
        "**Plotting Confusion Matrix**\n",
        "\n"
      ]
    },
    {
      "cell_type": "code",
      "metadata": {
        "colab": {
          "base_uri": "https://localhost:8080/",
          "height": 297
        },
        "id": "jUn3gWVSF7Qu",
        "outputId": "7ec503b3-05bf-4a56-dc07-1df3d1ee6df2"
      },
      "source": [
        "plot_confusion_matrix(Gradientbst_gs, data_test, target_test) "
      ],
      "execution_count": null,
      "outputs": [
        {
          "output_type": "execute_result",
          "data": {
            "text/plain": [
              "<sklearn.metrics._plot.confusion_matrix.ConfusionMatrixDisplay at 0x7ffa84d45410>"
            ]
          },
          "metadata": {
            "tags": []
          },
          "execution_count": 174
        },
        {
          "output_type": "display_data",
          "data": {
            "image/png": "[encoded data removed]",
            "text/plain": [
              "<Figure size 432x288 with 2 Axes>"
            ]
          },
          "metadata": {
            "tags": [],
            "needs_background": "light"
          }
        }
      ]
    },
    {
      "cell_type": "markdown",
      "metadata": {
        "id": "yday1Anf78CY"
      },
      "source": [
        "**Getting the best value of the hyperparameter**"
      ]
    },
    {
      "cell_type": "code",
      "metadata": {
        "colab": {
          "base_uri": "https://localhost:8080/"
        },
        "id": "WLO6MhEN5ZWZ",
        "outputId": "09abddaa-d7ef-4421-98dd-57b4cf6a6305"
      },
      "source": [
        "Gradientbst_gs.best_params_"
      ],
      "execution_count": null,
      "outputs": [
        {
          "output_type": "execute_result",
          "data": {
            "text/plain": [
              "{'gradientboostingclassifier__learning_rate': 0.009}"
            ]
          },
          "metadata": {
            "tags": []
          },
          "execution_count": 175
        }
      ]
    },
    {
      "cell_type": "markdown",
      "metadata": {
        "id": "ASH-GuRxaJg5"
      },
      "source": [
        "**Running Cross Validation**"
      ]
    },
    {
      "cell_type": "code",
      "metadata": {
        "id": "eYiBbEBAaBx0"
      },
      "source": [
        "cv_result_gb = cross_validate(Gradientbst_gs, data, target, cv=5)"
      ],
      "execution_count": null,
      "outputs": []
    },
    {
      "cell_type": "markdown",
      "metadata": {
        "id": "WMCHDT7Uathh"
      },
      "source": [
        "**Printing the Score**"
      ]
    },
    {
      "cell_type": "code",
      "metadata": {
        "colab": {
          "base_uri": "https://localhost:8080/"
        },
        "id": "jipGakaNa3Y7",
        "outputId": "cb8dfb3b-918d-409a-d3e0-05fa340f3a7a"
      },
      "source": [
        "scores = cv_result_gb[\"test_score\"]\n",
        "print(f\"The mean cross-validation accuracy is: \"\n",
        "      f\"{scores.mean():.3f} +/- {scores.std():.3f}\")"
      ],
      "execution_count": null,
      "outputs": [
        {
          "output_type": "stream",
          "text": [
            "The mean cross-validation accuracy is: 0.812 +/- 0.054\n"
          ],
          "name": "stdout"
        }
      ]
    },
    {
      "cell_type": "code",
      "metadata": {
        "id": "iB-_ock6a9Vs"
      },
      "source": [
        ""
      ],
      "execution_count": null,
      "outputs": []
    }
  ]
}